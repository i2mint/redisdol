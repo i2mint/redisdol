{
 "cells": [
  {
   "cell_type": "markdown",
   "metadata": {
    "toc": true
   },
   "source": [
    "<h1>Table of Contents<span class=\"tocSkip\"></span></h1>\n",
    "<div class=\"toc\"><ul class=\"toc-item\"><li><span><a href=\"#Prerequisites\" data-toc-modified-id=\"Prerequisites-1\"><span class=\"toc-item-num\">1&nbsp;&nbsp;</span>Prerequisites</a></span></li><li><span><a href=\"#Redis-in-pystore\" data-toc-modified-id=\"Redis-in-pystore-2\"><span class=\"toc-item-num\">2&nbsp;&nbsp;</span>Redis in pystore</a></span><ul class=\"toc-item\"><li><span><a href=\"#Making-a-store\" data-toc-modified-id=\"Making-a-store-2.1\"><span class=\"toc-item-num\">2.1&nbsp;&nbsp;</span>Making a store</a></span></li><li><span><a href=\"#The-normal-case-is-a-string/bytes\" data-toc-modified-id=\"The-normal-case-is-a-string/bytes-2.2\"><span class=\"toc-item-num\">2.2&nbsp;&nbsp;</span>The normal case is a string/bytes</a></span></li><li><span><a href=\"#Lists\" data-toc-modified-id=\"Lists-2.3\"><span class=\"toc-item-num\">2.3&nbsp;&nbsp;</span>Lists</a></span></li></ul></li><li><span><a href=\"#Using-Redis-to-operate-on-streams\" data-toc-modified-id=\"Using-Redis-to-operate-on-streams-3\"><span class=\"toc-item-num\">3&nbsp;&nbsp;</span>Using Redis to operate on streams</a></span></li><li><span><a href=\"#Ignore-everything-below----it's-just-scrap\" data-toc-modified-id=\"Ignore-everything-below----it's-just-scrap-4\"><span class=\"toc-item-num\">4&nbsp;&nbsp;</span>Ignore everything below -- it's just scrap</a></span><ul class=\"toc-item\"><li><span><a href=\"#Scrap-for-RedisList\" data-toc-modified-id=\"Scrap-for-RedisList-4.1\"><span class=\"toc-item-num\">4.1&nbsp;&nbsp;</span>Scrap for RedisList</a></span></li></ul></li><li><span><a href=\"#Redis-types\" data-toc-modified-id=\"Redis-types-5\"><span class=\"toc-item-num\">5&nbsp;&nbsp;</span>Redis types</a></span></li><li><span><a href=\"#Scrap\" data-toc-modified-id=\"Scrap-6\"><span class=\"toc-item-num\">6&nbsp;&nbsp;</span>Scrap</a></span><ul class=\"toc-item\"><li><span><a href=\"#Trying-redis-out\" data-toc-modified-id=\"Trying-redis-out-6.1\"><span class=\"toc-item-num\">6.1&nbsp;&nbsp;</span>Trying redis out</a></span></li><li><span><a href=\"#RedisPersister\" data-toc-modified-id=\"RedisPersister-6.2\"><span class=\"toc-item-num\">6.2&nbsp;&nbsp;</span>RedisPersister</a></span></li></ul></li></ul></div>"
   ]
  },
  {
   "cell_type": "code",
   "execution_count": null,
   "metadata": {},
   "outputs": [],
   "source": []
  },
  {
   "cell_type": "markdown",
   "metadata": {},
   "source": [
    "# Prerequisites"
   ]
  },
  {
   "cell_type": "markdown",
   "metadata": {},
   "source": [
    "You'll need the `redisdol` package, which you can install as such:\n",
    "\n",
    "```\n",
    "    pip install redisdol\n",
    "```\n",
    "\n",
    "This will also install it's dependencies: `redis` and `dol`. \n",
    "\n",
    "What it will **not** install for you is the actual redis backend. \n",
    "To get/install Redis see here: https://redis.io/topics/quickstart\n",
    "\n",
    "To run this notebook, you'll need to be running a redis server.\n",
    "\n",
    "To launch local redis server, do this in your terminal:\n",
    "```\n",
    "    redis-server\n",
    "```"
   ]
  },
  {
   "cell_type": "markdown",
   "metadata": {},
   "source": [
    "# Redis in pystore"
   ]
  },
  {
   "cell_type": "markdown",
   "metadata": {},
   "source": [
    "## Making a store"
   ]
  },
  {
   "cell_type": "code",
   "execution_count": 54,
   "metadata": {
    "ExecuteTime": {
     "end_time": "2023-02-08T14:39:52.489650Z",
     "start_time": "2023-02-08T14:39:52.479298Z"
    }
   },
   "outputs": [],
   "source": [
    "from py2store.persisters.redis_w_redis import (\n",
    "    RedisList, RedisBytesPersister, RedisCollection, RedisPersister, Redis\n",
    ")"
   ]
  },
  {
   "cell_type": "markdown",
   "metadata": {},
   "source": [
    "Let's make a writer, for when we need to write. But limited to bytes writing at this point."
   ]
  },
  {
   "cell_type": "code",
   "execution_count": 57,
   "metadata": {
    "ExecuteTime": {
     "end_time": "2023-02-08T14:40:05.930881Z",
     "start_time": "2023-02-08T14:40:05.918180Z"
    }
   },
   "outputs": [
    {
     "data": {
      "text/plain": [
       "[]"
      ]
     },
     "execution_count": 57,
     "metadata": {},
     "output_type": "execute_result"
    }
   ],
   "source": [
    "s = RedisPersister()\n",
    "list(s)"
   ]
  },
  {
   "cell_type": "markdown",
   "metadata": {},
   "source": [
    "## The normal case is a string/bytes"
   ]
  },
  {
   "cell_type": "code",
   "execution_count": 58,
   "metadata": {
    "ExecuteTime": {
     "end_time": "2023-02-08T14:40:22.368992Z",
     "start_time": "2023-02-08T14:40:22.358651Z"
    }
   },
   "outputs": [
    {
     "name": "stdout",
     "output_type": "stream",
     "text": [
      "[b'__test_string']\n"
     ]
    }
   ],
   "source": [
    "k = '__test_string'\n",
    "del s[k]  # note that Redis doesn't complain when you delete a key that's not there\n",
    "s[k] = \"This is not a string\"\n",
    "print(list(s))\n",
    "assert s[k] == b'This is not a string'  # indeed it's not: It's a bytes"
   ]
  },
  {
   "cell_type": "markdown",
   "metadata": {
    "ExecuteTime": {
     "end_time": "2020-06-10T00:41:04.305999Z",
     "start_time": "2020-06-10T00:41:04.290310Z"
    }
   },
   "source": [
    "## Lists"
   ]
  },
  {
   "cell_type": "code",
   "execution_count": 95,
   "metadata": {
    "ExecuteTime": {
     "end_time": "2023-02-08T14:52:05.185821Z",
     "start_time": "2023-02-08T14:52:05.170690Z"
    }
   },
   "outputs": [
    {
     "name": "stdout",
     "output_type": "stream",
     "text": [
      "number of items: 3\n",
      "number of items: 4\n"
     ]
    },
    {
     "data": {
      "text/plain": [
       "<redisdol.RedisList at 0x10643dba0>"
      ]
     },
     "execution_count": 95,
     "metadata": {},
     "output_type": "execute_result"
    }
   ],
   "source": [
    "kk = '__test_list'\n",
    "del s[kk]  # note that Redis doesn't complain when you delete a key that's not there\n",
    "print(f\"number of items: {len(s)}\")\n",
    "s[kk] = [1, 2, 3]\n",
    "print(f\"number of items: {len(s)}\")\n",
    "v = s[kk]\n",
    "v"
   ]
  },
  {
   "cell_type": "markdown",
   "metadata": {},
   "source": [
    "Note:"
   ]
  },
  {
   "cell_type": "code",
   "execution_count": 96,
   "metadata": {
    "ExecuteTime": {
     "end_time": "2023-02-08T14:52:06.239692Z",
     "start_time": "2023-02-08T14:52:06.225287Z"
    }
   },
   "outputs": [
    {
     "data": {
      "text/plain": [
       "redisdol.RedisList"
      ]
     },
     "execution_count": 96,
     "metadata": {},
     "output_type": "execute_result"
    }
   ],
   "source": [
    "type(v)"
   ]
  },
  {
   "cell_type": "markdown",
   "metadata": {},
   "source": [
    "What's that?\n",
    "\n",
    "Well, it's a list-like object (but not exactly a list). \n",
    "\n",
    "To get a list, you can use `list(obj)`, as you may have guessed. "
   ]
  },
  {
   "cell_type": "code",
   "execution_count": 97,
   "metadata": {
    "ExecuteTime": {
     "end_time": "2023-02-08T14:52:08.254013Z",
     "start_time": "2023-02-08T14:52:08.237112Z"
    }
   },
   "outputs": [
    {
     "data": {
      "text/plain": [
       "[b'1', b'2', b'3']"
      ]
     },
     "execution_count": 97,
     "metadata": {},
     "output_type": "execute_result"
    }
   ],
   "source": [
    "list(v)"
   ]
  },
  {
   "cell_type": "markdown",
   "metadata": {},
   "source": [
    "Yeah... that's not what you put there, but these are the base classes, so we stay close to the base library. \n",
    "\n",
    "Don't worry, you can have keys and values in what ever form you want, by using the right subclasses or decorators. But let's not go there yet: If you're curious, you can check out [`wrap_kvs`](https://i2mint.github.io/dol/module_docs/dol/trans.html#dol.trans.wrap_kvs) for example.\n",
    "\n",
    "Meanwhile, if you need a more convenient store to handle lists of numbers automatically for you, try out `RedisStoreWithNumericLists`:"
   ]
  },
  {
   "cell_type": "code",
   "execution_count": 132,
   "metadata": {
    "ExecuteTime": {
     "end_time": "2023-02-08T15:12:19.458080Z",
     "start_time": "2023-02-08T15:12:19.427390Z"
    }
   },
   "outputs": [
    {
     "data": {
      "text/plain": [
       "[1, -2, -3.0, 4e-23, b'not_a_number']"
      ]
     },
     "execution_count": 132,
     "metadata": {},
     "output_type": "execute_result"
    }
   ],
   "source": [
    "from redisdol.stores import RedisStoreWithNumericLists\n",
    "\n",
    "ss = RedisStoreWithNumericLists()\n",
    "ss['__test_numeric_list'] = [1,-2,-3.0, 4e-23, 'not_a_number']\n",
    "ss['__test_numeric_list']"
   ]
  },
  {
   "cell_type": "markdown",
   "metadata": {},
   "source": [
    "Back to the `RedisList` object...\n",
    "\n",
    "The advantage of the store not returning a list, but a special list-like object, is when you write to this `RedisList` object, the writes are actually forwarded to the Redis persister. That wouldn't happen if you were given simply a (copy of the underlying) list. "
   ]
  },
  {
   "cell_type": "code",
   "execution_count": 9,
   "metadata": {
    "ExecuteTime": {
     "end_time": "2023-02-08T14:16:45.364412Z",
     "start_time": "2023-02-08T14:16:45.346717Z"
    }
   },
   "outputs": [
    {
     "data": {
      "text/plain": [
       "[b'1', b'2', b'3', b'4']"
      ]
     },
     "execution_count": 9,
     "metadata": {},
     "output_type": "execute_result"
    }
   ],
   "source": [
    "v.append(4)\n",
    "list(v)"
   ]
  },
  {
   "cell_type": "code",
   "execution_count": 10,
   "metadata": {
    "ExecuteTime": {
     "end_time": "2023-02-08T14:16:45.922810Z",
     "start_time": "2023-02-08T14:16:45.900937Z"
    }
   },
   "outputs": [
    {
     "data": {
      "text/plain": [
       "[b'1', b'2', b'3', b'4', b'bob', b'and', b'alice']"
      ]
     },
     "execution_count": 10,
     "metadata": {},
     "output_type": "execute_result"
    }
   ],
   "source": [
    "v.extend(['bob', 'and', 'alice'])\n",
    "list(v)"
   ]
  },
  {
   "cell_type": "code",
   "execution_count": 11,
   "metadata": {
    "ExecuteTime": {
     "end_time": "2023-02-08T14:16:46.370208Z",
     "start_time": "2023-02-08T14:16:46.355684Z"
    }
   },
   "outputs": [
    {
     "data": {
      "text/plain": [
       "b'bob'"
      ]
     },
     "execution_count": 11,
     "metadata": {},
     "output_type": "execute_result"
    }
   ],
   "source": [
    "v[4]  # you can get an item by index"
   ]
  },
  {
   "cell_type": "code",
   "execution_count": 12,
   "metadata": {
    "ExecuteTime": {
     "end_time": "2023-02-08T14:16:47.874649Z",
     "start_time": "2023-02-08T14:16:47.860533Z"
    }
   },
   "outputs": [
    {
     "data": {
      "text/plain": [
       "[b'bob', b'and', b'alice']"
      ]
     },
     "execution_count": 12,
     "metadata": {},
     "output_type": "execute_result"
    }
   ],
   "source": [
    "v[4:7]  # you can slice (without step)"
   ]
  },
  {
   "cell_type": "code",
   "execution_count": 13,
   "metadata": {
    "ExecuteTime": {
     "end_time": "2023-02-08T14:16:48.073897Z",
     "start_time": "2023-02-08T14:16:48.058956Z"
    }
   },
   "outputs": [
    {
     "data": {
      "text/plain": [
       "[b'1', b'2', b'3']"
      ]
     },
     "execution_count": 13,
     "metadata": {},
     "output_type": "execute_result"
    }
   ],
   "source": [
    "v[:3]  # you can also slice like this"
   ]
  },
  {
   "cell_type": "code",
   "execution_count": 14,
   "metadata": {
    "ExecuteTime": {
     "end_time": "2023-02-08T14:16:48.494819Z",
     "start_time": "2023-02-08T14:16:48.483540Z"
    }
   },
   "outputs": [
    {
     "data": {
      "text/plain": [
       "[b'1', b'2', b'3', b'4', b'bob', b'and']"
      ]
     },
     "execution_count": 14,
     "metadata": {},
     "output_type": "execute_result"
    }
   ],
   "source": [
    "v[:-1]  # or do this"
   ]
  },
  {
   "cell_type": "code",
   "execution_count": 15,
   "metadata": {
    "ExecuteTime": {
     "end_time": "2023-02-08T14:16:49.154590Z",
     "start_time": "2023-02-08T14:16:49.139564Z"
    }
   },
   "outputs": [
    {
     "data": {
      "text/plain": [
       "b'4'"
      ]
     },
     "execution_count": 15,
     "metadata": {},
     "output_type": "execute_result"
    }
   ],
   "source": [
    "v[3]"
   ]
  },
  {
   "cell_type": "code",
   "execution_count": 16,
   "metadata": {
    "ExecuteTime": {
     "end_time": "2023-02-08T14:16:49.625352Z",
     "start_time": "2023-02-08T14:16:49.618269Z"
    }
   },
   "outputs": [],
   "source": [
    "v[3] = 'not four anymore'  # oh, and you can write to an index"
   ]
  },
  {
   "cell_type": "code",
   "execution_count": 17,
   "metadata": {
    "ExecuteTime": {
     "end_time": "2023-02-08T14:16:50.977252Z",
     "start_time": "2023-02-08T14:16:50.962004Z"
    }
   },
   "outputs": [
    {
     "data": {
      "text/plain": [
       "[b'1', b'2', b'3', b'not four anymore', b'bob', b'and', b'alice']"
      ]
     },
     "execution_count": 17,
     "metadata": {},
     "output_type": "execute_result"
    }
   ],
   "source": [
    "list(v)"
   ]
  },
  {
   "cell_type": "markdown",
   "metadata": {},
   "source": [
    "Note that if you ask for an index that's not there, you just get `None`. \n",
    "\n",
    "That's also what you would get if you actually stored a None there, so perhaps not the best choice. \n",
    "But it's what `redis.Redis` chose, and we're just the messenger. \n",
    "Also, you can't store a `None`, so..."
   ]
  },
  {
   "cell_type": "code",
   "execution_count": 18,
   "metadata": {
    "ExecuteTime": {
     "end_time": "2023-02-08T14:16:51.573875Z",
     "start_time": "2023-02-08T14:16:51.562868Z"
    }
   },
   "outputs": [],
   "source": [
    "v[len(v)]  # nothing there."
   ]
  },
  {
   "cell_type": "code",
   "execution_count": 19,
   "metadata": {
    "ExecuteTime": {
     "end_time": "2023-02-08T14:16:51.979217Z",
     "start_time": "2023-02-08T14:16:51.967745Z"
    }
   },
   "outputs": [],
   "source": [
    "v[len(v) + 100000]  # nothing there either."
   ]
  },
  {
   "cell_type": "code",
   "execution_count": 20,
   "metadata": {
    "ExecuteTime": {
     "end_time": "2023-02-08T14:16:52.370584Z",
     "start_time": "2023-02-08T14:16:52.358183Z"
    }
   },
   "outputs": [
    {
     "data": {
      "text/plain": [
       "7"
      ]
     },
     "execution_count": 20,
     "metadata": {},
     "output_type": "execute_result"
    }
   ],
   "source": [
    "len(v)"
   ]
  },
  {
   "cell_type": "code",
   "execution_count": 21,
   "metadata": {
    "ExecuteTime": {
     "end_time": "2023-02-08T14:16:53.901753Z",
     "start_time": "2023-02-08T14:16:53.891902Z"
    }
   },
   "outputs": [],
   "source": [
    "# v[len(v)] = 'why would you do this, you have append!'  # this does not work"
   ]
  },
  {
   "cell_type": "code",
   "execution_count": 22,
   "metadata": {
    "ExecuteTime": {
     "end_time": "2023-02-08T14:16:54.072589Z",
     "start_time": "2023-02-08T14:16:54.067155Z"
    }
   },
   "outputs": [],
   "source": [
    "# v[4242] = 'skipping a few entries, but I really want it there!'  # this does not work either"
   ]
  },
  {
   "cell_type": "markdown",
   "metadata": {},
   "source": [
    "So you can update a `RedisList`, but writes are still destroying."
   ]
  },
  {
   "cell_type": "code",
   "execution_count": 23,
   "metadata": {
    "ExecuteTime": {
     "end_time": "2023-02-08T14:16:54.718967Z",
     "start_time": "2023-02-08T14:16:54.702415Z"
    }
   },
   "outputs": [
    {
     "data": {
      "text/plain": [
       "[b'1', b'2', b'3', b'not four anymore', b'bob', b'and', b'alice']"
      ]
     },
     "execution_count": 23,
     "metadata": {},
     "output_type": "execute_result"
    }
   ],
   "source": [
    "list(s[kk])"
   ]
  },
  {
   "cell_type": "code",
   "execution_count": 24,
   "metadata": {
    "ExecuteTime": {
     "end_time": "2023-02-08T14:16:57.454558Z",
     "start_time": "2023-02-08T14:16:57.437611Z"
    }
   },
   "outputs": [
    {
     "data": {
      "text/plain": [
       "b\"poof, it's gone\""
      ]
     },
     "execution_count": 24,
     "metadata": {},
     "output_type": "execute_result"
    }
   ],
   "source": [
    "s[kk] = \"poof, it's gone\"\n",
    "s[kk]"
   ]
  },
  {
   "cell_type": "markdown",
   "metadata": {},
   "source": [
    "# Using Redis to operate on streams"
   ]
  },
  {
   "cell_type": "markdown",
   "metadata": {},
   "source": [
    "For the following, you'll need to `pip install meshed` if you don't have it already. \n",
    "In it, we'll be using `Slabs`, which is a class to define stream operations: Both where to source streams and what operations/services to run on these. "
   ]
  },
  {
   "cell_type": "code",
   "execution_count": 34,
   "metadata": {
    "ExecuteTime": {
     "end_time": "2023-02-08T14:31:31.296548Z",
     "start_time": "2023-02-08T14:31:31.288204Z"
    }
   },
   "outputs": [
    {
     "name": "stdout",
     "output_type": "stream",
     "text": [
      "someone is there\n"
     ]
    },
    {
     "data": {
      "text/plain": [
       "[{'audio': [1, 2, 3],\n",
       "  'light': 126,\n",
       "  'movement': None,\n",
       "  'should_turn_movement_sensor_on': False,\n",
       "  'human_presence_score': None,\n",
       "  'should_notify': None,\n",
       "  'notify': None},\n",
       " {'audio': [-96, 87, -92],\n",
       "  'light': 501,\n",
       "  'movement': None,\n",
       "  'should_turn_movement_sensor_on': True,\n",
       "  'human_presence_score': None,\n",
       "  'should_notify': None,\n",
       "  'notify': None},\n",
       " {'audio': [320, -96, 99],\n",
       "  'light': 523,\n",
       "  'movement': True,\n",
       "  'should_turn_movement_sensor_on': True,\n",
       "  'human_presence_score': 731.1353726143957,\n",
       "  'should_notify': True,\n",
       "  'notify': None}]"
      ]
     },
     "execution_count": 34,
     "metadata": {},
     "output_type": "execute_result"
    }
   ],
   "source": [
    "from know.base import Slabs\n",
    "from statistics import stdev\n",
    "\n",
    "vol = stdev\n",
    "\n",
    "# Making a slabs iter object\n",
    "def make_a_slabs_iter(scope_factory=dict):\n",
    "\n",
    "    # Mocking the sensor readers\n",
    "    audio_sensor_read = iter([[1, 2, 3], [-96, 87, -92], [320, -96, 99]]).__next__\n",
    "    light_sensor_read = iter([126, 501, 523]).__next__\n",
    "    movement_sensor_read = iter([None, None, True]).__next__\n",
    "\n",
    "    return Slabs(\n",
    "        # The first three components get data from the sensors.\n",
    "        # The *_read objects are all callable, returning the next\n",
    "        # chunk of data for that sensor, if any.\n",
    "        scope_factory=scope_factory,\n",
    "        audio=audio_sensor_read,\n",
    "        light=light_sensor_read,\n",
    "        movement=movement_sensor_read,\n",
    "        # The next\n",
    "        should_turn_movement_sensor_on = lambda audio, light: vol(audio) * light > 50000,\n",
    "        human_presence_score = lambda audio, light, movement: movement and sum([vol(audio), light]),\n",
    "        should_notify = lambda human_presence_score: human_presence_score and human_presence_score > 700,\n",
    "        notify = lambda should_notify: print('someone is there') if should_notify else None\n",
    "    )\n",
    "\n",
    "\n",
    "si = make_a_slabs_iter()\n",
    "list(si)\n"
   ]
  },
  {
   "cell_type": "markdown",
   "metadata": {},
   "source": [
    "If we just feed a default RedisBytesPersister as the scope_factory, it will fail with a `DataError`."
   ]
  },
  {
   "cell_type": "code",
   "execution_count": 135,
   "metadata": {
    "ExecuteTime": {
     "end_time": "2023-02-08T15:26:52.390368Z",
     "start_time": "2023-02-08T15:26:52.375930Z"
    }
   },
   "outputs": [],
   "source": [
    "si = make_a_slabs_iter(scope_factory=RedisPersister)\n",
    "# list(si)\n",
    "# raises\n",
    "# DataError: Invalid input of type: 'list'. Convert to a bytes, string, int or float first."
   ]
  },
  {
   "cell_type": "markdown",
   "metadata": {
    "ExecuteTime": {
     "end_time": "2023-02-08T14:30:59.783420Z",
     "start_time": "2023-02-08T14:30:59.774055Z"
    }
   },
   "source": [
    "We need to do a bit more work on the serialization part."
   ]
  },
  {
   "cell_type": "code",
   "execution_count": 146,
   "metadata": {
    "ExecuteTime": {
     "end_time": "2023-02-08T15:33:42.247634Z",
     "start_time": "2023-02-08T15:33:42.228182Z"
    }
   },
   "outputs": [],
   "source": [
    "from redisdol.stores import RedisStoreWithNumericLists\n",
    "si = make_a_slabs_iter(scope_factory=RedisStoreWithNumericLists)\n",
    "# next(si)"
   ]
  },
  {
   "cell_type": "code",
   "execution_count": null,
   "metadata": {},
   "outputs": [],
   "source": []
  },
  {
   "cell_type": "code",
   "execution_count": 143,
   "metadata": {
    "ExecuteTime": {
     "end_time": "2023-02-08T15:33:20.991069Z",
     "start_time": "2023-02-08T15:33:20.980211Z"
    }
   },
   "outputs": [],
   "source": [
    "t = RedisStoreWithNumericLists()\n",
    "t['asdad'] = [1,2,3]"
   ]
  },
  {
   "cell_type": "code",
   "execution_count": 144,
   "metadata": {
    "ExecuteTime": {
     "end_time": "2023-02-08T15:33:22.285727Z",
     "start_time": "2023-02-08T15:33:22.272199Z"
    }
   },
   "outputs": [
    {
     "data": {
      "text/plain": [
       "[1, 2, 3]"
      ]
     },
     "execution_count": 144,
     "metadata": {},
     "output_type": "execute_result"
    }
   ],
   "source": [
    "list(t['asdad'])"
   ]
  },
  {
   "cell_type": "code",
   "execution_count": null,
   "metadata": {},
   "outputs": [],
   "source": [
    "RedisStoreWithNumericLists"
   ]
  },
  {
   "cell_type": "markdown",
   "metadata": {},
   "source": [
    "# Ignore everything below -- it's just scrap"
   ]
  },
  {
   "cell_type": "code",
   "execution_count": null,
   "metadata": {},
   "outputs": [],
   "source": []
  },
  {
   "cell_type": "code",
   "execution_count": 2,
   "metadata": {
    "ExecuteTime": {
     "end_time": "2023-02-08T14:12:35.285694Z",
     "start_time": "2023-02-08T14:12:35.277710Z"
    }
   },
   "outputs": [
    {
     "name": "stdout",
     "output_type": "stream",
     "text": [
      "RESPONSE_CALLBACKS\t__abstractmethods__\t__annotations__\t__class__\t__class_getitem__\t__contains__\t__del__\t__delattr__\t__delitem__\t__dict__\t__dir__\t__doc__\t__enter__\t__eq__\t__exit__\t__format__\t__ge__\t__getattribute__\t__getitem__\t__gt__\t__hash__\t__init__\t__init_subclass__\t__le__\t__lt__\t__module__\t__ne__\t__new__\t__parameters__\t__reduce__\t__reduce_ex__\t__repr__\t__setattr__\t__setitem__\t__sizeof__\t__slots__\t__str__\t__subclasshook__\t__weakref__\t_abc_impl\t_disconnect_raise\t_eval\t_evalsha\t_fcall\t_georadiusgeneric\t_geosearchgeneric\t_is_protocol\t_is_runtime_protocol\t_send_command_parse_response\t_zaggregate\t_zrange\tacl_cat\tacl_deluser\tacl_dryrun\tacl_genpass\tacl_getuser\tacl_help\tacl_list\tacl_load\tacl_log\tacl_log_reset\tacl_save\tacl_setuser\tacl_users\tacl_whoami\tappend\tauth\tbf\tbgrewriteaof\tbgsave\tbitcount\tbitfield\tbitfield_ro\tbitop\tbitpos\tblmove\tblmpop\tblpop\tbrpop\tbrpoplpush\tbzmpop\tbzpopmax\tbzpopmin\tcf\tclient\tclient_getname\tclient_getredir\tclient_id\tclient_info\tclient_kill\tclient_kill_filter\tclient_list\tclient_no_evict\tclient_pause\tclient_reply\tclient_setname\tclient_tracking\tclient_tracking_off\tclient_tracking_on\tclient_trackinginfo\tclient_unblock\tclient_unpause\tclose\tcluster\tcms\tcommand\tcommand_count\tcommand_docs\tcommand_getkeys\tcommand_getkeysandflags\tcommand_info\tcommand_list\tconfig_get\tconfig_resetstat\tconfig_rewrite\tconfig_set\tcopy\tdbsize\tdebug_object\tdebug_segfault\tdecr\tdecrby\tdelete\tdump\techo\teval\teval_ro\tevalsha\tevalsha_ro\texecute_command\texists\texpire\texpireat\texpiretime\tfailover\tfcall\tfcall_ro\tflushall\tflushdb\tfrom_url\tft\tfunction_delete\tfunction_dump\tfunction_flush\tfunction_kill\tfunction_list\tfunction_load\tfunction_restore\tfunction_stats\tgeoadd\tgeodist\tgeohash\tgeopos\tgeoradius\tgeoradiusbymember\tgeosearch\tgeosearchstore\tget\tget_connection_kwargs\tget_encoder\tget_retry\tgetbit\tgetdel\tgetex\tgetrange\tgetset\tgraph\thdel\thello\thexists\thget\thgetall\thincrby\thincrbyfloat\thkeys\thlen\thmget\thmset\thrandfield\thscan\thscan_iter\thset\thsetnx\thstrlen\thvals\tincr\tincrby\tincrbyfloat\tinfo\tjson\tkeys\tlastsave\tlatency_doctor\tlatency_graph\tlatency_histogram\tlatency_history\tlatency_latest\tlatency_reset\tlcs\tlindex\tlinsert\tllen\tlmove\tlmpop\tload_external_module\tlock\tlolwut\tlpop\tlpos\tlpush\tlpushx\tlrange\tlrem\tlset\tltrim\tmemory_doctor\tmemory_help\tmemory_malloc_stats\tmemory_purge\tmemory_stats\tmemory_usage\tmget\tmigrate\tmodule_list\tmodule_load\tmodule_loadex\tmodule_unload\tmonitor\tmove\tmset\tmsetnx\tobject\tparse_response\tpersist\tpexpire\tpexpireat\tpexpiretime\tpfadd\tpfcount\tpfmerge\tping\tpipeline\tpsetex\tpsync\tpttl\tpublish\tpubsub\tpubsub_channels\tpubsub_numpat\tpubsub_numsub\tquit\trandomkey\treadonly\treadwrite\tregister_script\trename\trenamenx\treplicaof\treset\trestore\trole\trpop\trpoplpush\trpush\trpushx\tsadd\tsave\tscan\tscan_iter\tscard\tscript_debug\tscript_exists\tscript_flush\tscript_kill\tscript_load\tsdiff\tsdiffstore\tselect\tsentinel\tsentinel_ckquorum\tsentinel_failover\tsentinel_flushconfig\tsentinel_get_master_addr_by_name\tsentinel_master\tsentinel_masters\tsentinel_monitor\tsentinel_remove\tsentinel_reset\tsentinel_sentinels\tsentinel_set\tsentinel_slaves\tset\tset_response_callback\tset_retry\tsetbit\tsetex\tsetnx\tsetrange\tshutdown\tsinter\tsintercard\tsinterstore\tsismember\tslaveof\tslowlog_get\tslowlog_len\tslowlog_reset\tsmembers\tsmismember\tsmove\tsort\tsort_ro\tspop\tsrandmember\tsrem\tsscan\tsscan_iter\tstralgo\tstrlen\tsubstr\tsunion\tsunionstore\tswapdb\tsync\ttdigest\ttime\ttopk\ttouch\ttransaction\tts\tttl\ttype\tunlink\tunwatch\twait\twatch\txack\txadd\txautoclaim\txclaim\txdel\txgroup_create\txgroup_createconsumer\txgroup_delconsumer\txgroup_destroy\txgroup_setid\txinfo_consumers\txinfo_groups\txinfo_stream\txlen\txpending\txpending_range\txrange\txread\txreadgroup\txrevrange\txtrim\tzadd\tzcard\tzcount\tzdiff\tzdiffstore\tzincrby\tzinter\tzintercard\tzinterstore\tzlexcount\tzmpop\tzmscore\tzpopmax\tzpopmin\tzrandmember\tzrange\tzrangebylex\tzrangebyscore\tzrangestore\tzrank\tzrem\tzremrangebylex\tzremrangebyrank\tzremrangebyscore\tzrevrange\tzrevrangebylex\tzrevrangebyscore\tzrevrank\tzscan\tzscan_iter\tzscore\tzunion\tzunionstore\n"
     ]
    }
   ],
   "source": [
    "# Look at what the redis.Redis class contains:\n",
    "from redis import Redis\n",
    "\n",
    "print(*dir(Redis), sep='\\t')"
   ]
  },
  {
   "cell_type": "code",
   "execution_count": null,
   "metadata": {},
   "outputs": [],
   "source": []
  },
  {
   "cell_type": "code",
   "execution_count": null,
   "metadata": {},
   "outputs": [],
   "source": []
  },
  {
   "cell_type": "markdown",
   "metadata": {},
   "source": [
    "## Scrap for RedisList"
   ]
  },
  {
   "cell_type": "markdown",
   "metadata": {
    "ExecuteTime": {
     "end_time": "2020-06-10T00:00:56.939940Z",
     "start_time": "2020-06-10T00:00:56.923625Z"
    }
   },
   "source": [
    "Say you wanted to make a reader, or other instance, using the same source. \n",
    "Consider the following methods."
   ]
  },
  {
   "cell_type": "code",
   "execution_count": 63,
   "metadata": {
    "ExecuteTime": {
     "end_time": "2020-06-10T00:31:38.304495Z",
     "start_time": "2020-06-10T00:31:38.287131Z"
    }
   },
   "outputs": [
    {
     "data": {
      "text/plain": [
       "[b'one', b'__test_name', b'a list', b'bytes', b'int', b'float', b'foo']"
      ]
     },
     "execution_count": 63,
     "metadata": {},
     "output_type": "execute_result"
    }
   ],
   "source": [
    "# We could make it from scratch by doing RedisCollection(), but we could also reuse the same _source\n",
    "r = RedisCollection.from_source(w._source)  # one option: Reusing w's _source attr\n",
    "r = RedisCollection.from_sourced_object(w)  # another option: directly from w, that has a _source attr\n",
    "list(r)"
   ]
  },
  {
   "cell_type": "markdown",
   "metadata": {},
   "source": [
    "See how RedisCollection reacts to different types"
   ]
  },
  {
   "cell_type": "code",
   "execution_count": 64,
   "metadata": {
    "ExecuteTime": {
     "end_time": "2020-06-10T00:31:42.168838Z",
     "start_time": "2020-06-10T00:31:42.151840Z"
    }
   },
   "outputs": [
    {
     "data": {
      "text/plain": [
       "b'blah'"
      ]
     },
     "execution_count": 64,
     "metadata": {},
     "output_type": "execute_result"
    }
   ],
   "source": [
    "r['bytes']"
   ]
  },
  {
   "cell_type": "markdown",
   "metadata": {},
   "source": [
    "... but if it's a list"
   ]
  },
  {
   "cell_type": "code",
   "execution_count": 44,
   "metadata": {
    "ExecuteTime": {
     "end_time": "2020-06-10T00:19:34.981477Z",
     "start_time": "2020-06-10T00:19:34.965524Z"
    }
   },
   "outputs": [],
   "source": [
    "t = r['another_list']"
   ]
  },
  {
   "cell_type": "code",
   "execution_count": 47,
   "metadata": {
    "ExecuteTime": {
     "end_time": "2020-06-10T00:20:19.982527Z",
     "start_time": "2020-06-10T00:20:19.964041Z"
    }
   },
   "outputs": [
    {
     "data": {
      "text/plain": [
       "[b'3', b'10', b'3', b'10', b'bob']"
      ]
     },
     "execution_count": 47,
     "metadata": {},
     "output_type": "execute_result"
    }
   ],
   "source": [
    "list(t)"
   ]
  },
  {
   "cell_type": "code",
   "execution_count": 48,
   "metadata": {
    "ExecuteTime": {
     "end_time": "2020-06-10T00:20:29.780728Z",
     "start_time": "2020-06-10T00:20:29.761751Z"
    }
   },
   "outputs": [
    {
     "data": {
      "text/plain": [
       "[b'alice', b'3', b'10', b'3', b'10', b'bob']"
      ]
     },
     "execution_count": 48,
     "metadata": {},
     "output_type": "execute_result"
    }
   ],
   "source": [
    "t.append('alice')\n",
    "list(t)"
   ]
  },
  {
   "cell_type": "code",
   "execution_count": 50,
   "metadata": {
    "ExecuteTime": {
     "end_time": "2020-06-10T00:21:21.030973Z",
     "start_time": "2020-06-10T00:21:21.012827Z"
    }
   },
   "outputs": [
    {
     "data": {
      "text/plain": [
       "[b'c', b'b', b'a', b'alice', b'3', b'10', b'3', b'10', b'bob']"
      ]
     },
     "execution_count": 50,
     "metadata": {},
     "output_type": "execute_result"
    }
   ],
   "source": [
    "t.extend(['a', 'b', 'c'])\n",
    "list(t)"
   ]
  },
  {
   "cell_type": "code",
   "execution_count": 55,
   "metadata": {
    "ExecuteTime": {
     "end_time": "2020-06-10T00:25:18.906847Z",
     "start_time": "2020-06-10T00:25:18.891163Z"
    }
   },
   "outputs": [],
   "source": [
    "# del w['another_list']"
   ]
  },
  {
   "cell_type": "code",
   "execution_count": 6,
   "metadata": {
    "ExecuteTime": {
     "end_time": "2020-06-09T23:30:40.340376Z",
     "start_time": "2020-06-09T23:30:40.311780Z"
    }
   },
   "outputs": [
    {
     "ename": "ResponseError",
     "evalue": "WRONGTYPE Operation against a key holding the wrong kind of value",
     "output_type": "error",
     "traceback": [
      "\u001b[0;31m---------------------------------------------------------------------------\u001b[0m",
      "\u001b[0;31mResponseError\u001b[0m                             Traceback (most recent call last)",
      "\u001b[0;32m<ipython-input-6-5b8e829f99c8>\u001b[0m in \u001b[0;36m<module>\u001b[0;34m\u001b[0m\n\u001b[0;32m----> 1\u001b[0;31m \u001b[0ms\u001b[0m\u001b[0;34m[\u001b[0m\u001b[0mname\u001b[0m\u001b[0;34m]\u001b[0m\u001b[0;34m\u001b[0m\u001b[0;34m\u001b[0m\u001b[0m\n\u001b[0m",
      "\u001b[0;32m/D/Dropbox/dev/p3/proj/py2store/py2store/persisters/redis_w_redis.py\u001b[0m in \u001b[0;36m__getitem__\u001b[0;34m(self, k)\u001b[0m\n\u001b[1;32m     45\u001b[0m \u001b[0;32mclass\u001b[0m \u001b[0mRedisBytesReader\u001b[0m\u001b[0;34m(\u001b[0m\u001b[0mRedisBytesCollection\u001b[0m\u001b[0;34m,\u001b[0m \u001b[0mKvReader\u001b[0m\u001b[0;34m)\u001b[0m\u001b[0;34m:\u001b[0m\u001b[0;34m\u001b[0m\u001b[0;34m\u001b[0m\u001b[0m\n\u001b[1;32m     46\u001b[0m     \u001b[0;32mdef\u001b[0m \u001b[0m__getitem__\u001b[0m\u001b[0;34m(\u001b[0m\u001b[0mself\u001b[0m\u001b[0;34m,\u001b[0m \u001b[0mk\u001b[0m\u001b[0;34m)\u001b[0m\u001b[0;34m:\u001b[0m\u001b[0;34m\u001b[0m\u001b[0;34m\u001b[0m\u001b[0m\n\u001b[0;32m---> 47\u001b[0;31m         \u001b[0;32mreturn\u001b[0m \u001b[0mself\u001b[0m\u001b[0;34m.\u001b[0m\u001b[0m_source\u001b[0m\u001b[0;34m.\u001b[0m\u001b[0mget\u001b[0m\u001b[0;34m(\u001b[0m\u001b[0mk\u001b[0m\u001b[0;34m)\u001b[0m\u001b[0;34m\u001b[0m\u001b[0;34m\u001b[0m\u001b[0m\n\u001b[0m\u001b[1;32m     48\u001b[0m \u001b[0;34m\u001b[0m\u001b[0m\n\u001b[1;32m     49\u001b[0m \u001b[0;34m\u001b[0m\u001b[0m\n",
      "\u001b[0;32m~/.virtualenvs/382/lib/python3.8/site-packages/redis/client.py\u001b[0m in \u001b[0;36mget\u001b[0;34m(self, name)\u001b[0m\n\u001b[1;32m   1604\u001b[0m         \u001b[0mReturn\u001b[0m \u001b[0mthe\u001b[0m \u001b[0mvalue\u001b[0m \u001b[0mat\u001b[0m \u001b[0mkey\u001b[0m\u001b[0;31m \u001b[0m\u001b[0;31m`\u001b[0m\u001b[0;31m`\u001b[0m\u001b[0mname\u001b[0m\u001b[0;31m`\u001b[0m\u001b[0;31m`\u001b[0m\u001b[0;34m,\u001b[0m \u001b[0;32mor\u001b[0m \u001b[0;32mNone\u001b[0m \u001b[0;32mif\u001b[0m \u001b[0mthe\u001b[0m \u001b[0mkey\u001b[0m \u001b[0mdoesn\u001b[0m\u001b[0;31m'\u001b[0m\u001b[0mt\u001b[0m \u001b[0mexist\u001b[0m\u001b[0;34m\u001b[0m\u001b[0;34m\u001b[0m\u001b[0m\n\u001b[1;32m   1605\u001b[0m         \"\"\"\n\u001b[0;32m-> 1606\u001b[0;31m         \u001b[0;32mreturn\u001b[0m \u001b[0mself\u001b[0m\u001b[0;34m.\u001b[0m\u001b[0mexecute_command\u001b[0m\u001b[0;34m(\u001b[0m\u001b[0;34m'GET'\u001b[0m\u001b[0;34m,\u001b[0m \u001b[0mname\u001b[0m\u001b[0;34m)\u001b[0m\u001b[0;34m\u001b[0m\u001b[0;34m\u001b[0m\u001b[0m\n\u001b[0m\u001b[1;32m   1607\u001b[0m \u001b[0;34m\u001b[0m\u001b[0m\n\u001b[1;32m   1608\u001b[0m     \u001b[0;32mdef\u001b[0m \u001b[0m__getitem__\u001b[0m\u001b[0;34m(\u001b[0m\u001b[0mself\u001b[0m\u001b[0;34m,\u001b[0m \u001b[0mname\u001b[0m\u001b[0;34m)\u001b[0m\u001b[0;34m:\u001b[0m\u001b[0;34m\u001b[0m\u001b[0;34m\u001b[0m\u001b[0m\n",
      "\u001b[0;32m~/.virtualenvs/382/lib/python3.8/site-packages/redis/client.py\u001b[0m in \u001b[0;36mexecute_command\u001b[0;34m(self, *args, **options)\u001b[0m\n\u001b[1;32m    899\u001b[0m         \u001b[0;32mtry\u001b[0m\u001b[0;34m:\u001b[0m\u001b[0;34m\u001b[0m\u001b[0;34m\u001b[0m\u001b[0m\n\u001b[1;32m    900\u001b[0m             \u001b[0mconn\u001b[0m\u001b[0;34m.\u001b[0m\u001b[0msend_command\u001b[0m\u001b[0;34m(\u001b[0m\u001b[0;34m*\u001b[0m\u001b[0margs\u001b[0m\u001b[0;34m)\u001b[0m\u001b[0;34m\u001b[0m\u001b[0;34m\u001b[0m\u001b[0m\n\u001b[0;32m--> 901\u001b[0;31m             \u001b[0;32mreturn\u001b[0m \u001b[0mself\u001b[0m\u001b[0;34m.\u001b[0m\u001b[0mparse_response\u001b[0m\u001b[0;34m(\u001b[0m\u001b[0mconn\u001b[0m\u001b[0;34m,\u001b[0m \u001b[0mcommand_name\u001b[0m\u001b[0;34m,\u001b[0m \u001b[0;34m**\u001b[0m\u001b[0moptions\u001b[0m\u001b[0;34m)\u001b[0m\u001b[0;34m\u001b[0m\u001b[0;34m\u001b[0m\u001b[0m\n\u001b[0m\u001b[1;32m    902\u001b[0m         \u001b[0;32mexcept\u001b[0m \u001b[0;34m(\u001b[0m\u001b[0mConnectionError\u001b[0m\u001b[0;34m,\u001b[0m \u001b[0mTimeoutError\u001b[0m\u001b[0;34m)\u001b[0m \u001b[0;32mas\u001b[0m \u001b[0me\u001b[0m\u001b[0;34m:\u001b[0m\u001b[0;34m\u001b[0m\u001b[0;34m\u001b[0m\u001b[0m\n\u001b[1;32m    903\u001b[0m             \u001b[0mconn\u001b[0m\u001b[0;34m.\u001b[0m\u001b[0mdisconnect\u001b[0m\u001b[0;34m(\u001b[0m\u001b[0;34m)\u001b[0m\u001b[0;34m\u001b[0m\u001b[0;34m\u001b[0m\u001b[0m\n",
      "\u001b[0;32m~/.virtualenvs/382/lib/python3.8/site-packages/redis/client.py\u001b[0m in \u001b[0;36mparse_response\u001b[0;34m(self, connection, command_name, **options)\u001b[0m\n\u001b[1;32m    913\u001b[0m         \u001b[0;34m\"Parses a response from the Redis server\"\u001b[0m\u001b[0;34m\u001b[0m\u001b[0;34m\u001b[0m\u001b[0m\n\u001b[1;32m    914\u001b[0m         \u001b[0;32mtry\u001b[0m\u001b[0;34m:\u001b[0m\u001b[0;34m\u001b[0m\u001b[0;34m\u001b[0m\u001b[0m\n\u001b[0;32m--> 915\u001b[0;31m             \u001b[0mresponse\u001b[0m \u001b[0;34m=\u001b[0m \u001b[0mconnection\u001b[0m\u001b[0;34m.\u001b[0m\u001b[0mread_response\u001b[0m\u001b[0;34m(\u001b[0m\u001b[0;34m)\u001b[0m\u001b[0;34m\u001b[0m\u001b[0;34m\u001b[0m\u001b[0m\n\u001b[0m\u001b[1;32m    916\u001b[0m         \u001b[0;32mexcept\u001b[0m \u001b[0mResponseError\u001b[0m\u001b[0;34m:\u001b[0m\u001b[0;34m\u001b[0m\u001b[0;34m\u001b[0m\u001b[0m\n\u001b[1;32m    917\u001b[0m             \u001b[0;32mif\u001b[0m \u001b[0mEMPTY_RESPONSE\u001b[0m \u001b[0;32min\u001b[0m \u001b[0moptions\u001b[0m\u001b[0;34m:\u001b[0m\u001b[0;34m\u001b[0m\u001b[0;34m\u001b[0m\u001b[0m\n",
      "\u001b[0;32m~/.virtualenvs/382/lib/python3.8/site-packages/redis/connection.py\u001b[0m in \u001b[0;36mread_response\u001b[0;34m(self)\u001b[0m\n\u001b[1;32m    754\u001b[0m \u001b[0;34m\u001b[0m\u001b[0m\n\u001b[1;32m    755\u001b[0m         \u001b[0;32mif\u001b[0m \u001b[0misinstance\u001b[0m\u001b[0;34m(\u001b[0m\u001b[0mresponse\u001b[0m\u001b[0;34m,\u001b[0m \u001b[0mResponseError\u001b[0m\u001b[0;34m)\u001b[0m\u001b[0;34m:\u001b[0m\u001b[0;34m\u001b[0m\u001b[0;34m\u001b[0m\u001b[0m\n\u001b[0;32m--> 756\u001b[0;31m             \u001b[0;32mraise\u001b[0m \u001b[0mresponse\u001b[0m\u001b[0;34m\u001b[0m\u001b[0;34m\u001b[0m\u001b[0m\n\u001b[0m\u001b[1;32m    757\u001b[0m         \u001b[0;32mreturn\u001b[0m \u001b[0mresponse\u001b[0m\u001b[0;34m\u001b[0m\u001b[0;34m\u001b[0m\u001b[0m\n\u001b[1;32m    758\u001b[0m \u001b[0;34m\u001b[0m\u001b[0m\n",
      "\u001b[0;31mResponseError\u001b[0m: WRONGTYPE Operation against a key holding the wrong kind of value"
     ]
    }
   ],
   "source": [
    "s[name]"
   ]
  },
  {
   "cell_type": "code",
   "execution_count": null,
   "metadata": {},
   "outputs": [],
   "source": []
  },
  {
   "cell_type": "code",
   "execution_count": 78,
   "metadata": {
    "ExecuteTime": {
     "end_time": "2020-06-09T22:54:29.280977Z",
     "start_time": "2020-06-09T22:54:29.065513Z"
    }
   },
   "outputs": [],
   "source": [
    "name = 'another_list'\n",
    "ss = RedisListReader(s._source, name)"
   ]
  },
  {
   "cell_type": "code",
   "execution_count": 80,
   "metadata": {
    "ExecuteTime": {
     "end_time": "2020-06-09T22:54:34.299754Z",
     "start_time": "2020-06-09T22:54:34.282034Z"
    }
   },
   "outputs": [
    {
     "data": {
      "text/plain": [
       "5"
      ]
     },
     "execution_count": 80,
     "metadata": {},
     "output_type": "execute_result"
    }
   ],
   "source": [
    "len(ss)"
   ]
  },
  {
   "cell_type": "code",
   "execution_count": 81,
   "metadata": {
    "ExecuteTime": {
     "end_time": "2020-06-09T22:54:37.787754Z",
     "start_time": "2020-06-09T22:54:37.769386Z"
    }
   },
   "outputs": [
    {
     "data": {
      "text/plain": [
       "[b'3', b'10', b'3', b'10', b'bob']"
      ]
     },
     "execution_count": 81,
     "metadata": {},
     "output_type": "execute_result"
    }
   ],
   "source": [
    "list(ss)"
   ]
  },
  {
   "cell_type": "code",
   "execution_count": 84,
   "metadata": {
    "ExecuteTime": {
     "end_time": "2020-06-09T22:55:02.121403Z",
     "start_time": "2020-06-09T22:55:02.104307Z"
    }
   },
   "outputs": [
    {
     "data": {
      "text/plain": [
       "b'10'"
      ]
     },
     "execution_count": 84,
     "metadata": {},
     "output_type": "execute_result"
    }
   ],
   "source": [
    "ss[1]"
   ]
  },
  {
   "cell_type": "code",
   "execution_count": 89,
   "metadata": {
    "ExecuteTime": {
     "end_time": "2020-06-09T22:59:57.489417Z",
     "start_time": "2020-06-09T22:59:57.276150Z"
    }
   },
   "outputs": [
    {
     "data": {
      "text/plain": [
       "3"
      ]
     },
     "execution_count": 89,
     "metadata": {},
     "output_type": "execute_result"
    }
   ],
   "source": [
    "s._source.lpush('a list', 1, 2, 3)"
   ]
  },
  {
   "cell_type": "code",
   "execution_count": 92,
   "metadata": {
    "ExecuteTime": {
     "end_time": "2020-06-09T23:01:01.266139Z",
     "start_time": "2020-06-09T23:01:01.247793Z"
    }
   },
   "outputs": [
    {
     "data": {
      "text/plain": [
       "[b'3', b'2', b'1']"
      ]
     },
     "execution_count": 92,
     "metadata": {},
     "output_type": "execute_result"
    }
   ],
   "source": [
    "list(RedisListReader(s._source, 'a list'))"
   ]
  },
  {
   "cell_type": "code",
   "execution_count": 112,
   "metadata": {
    "ExecuteTime": {
     "end_time": "2020-06-09T23:14:00.027825Z",
     "start_time": "2020-06-09T23:14:00.012769Z"
    }
   },
   "outputs": [],
   "source": [
    "ss = RedisList(s._source, 'a list')"
   ]
  },
  {
   "cell_type": "code",
   "execution_count": 113,
   "metadata": {
    "ExecuteTime": {
     "end_time": "2020-06-09T23:14:04.542509Z",
     "start_time": "2020-06-09T23:14:04.523541Z"
    }
   },
   "outputs": [
    {
     "data": {
      "text/plain": [
       "[b'3', b'2', b'1']"
      ]
     },
     "execution_count": 113,
     "metadata": {},
     "output_type": "execute_result"
    }
   ],
   "source": [
    "list(ss)"
   ]
  },
  {
   "cell_type": "code",
   "execution_count": 114,
   "metadata": {
    "ExecuteTime": {
     "end_time": "2020-06-09T23:14:20.161294Z",
     "start_time": "2020-06-09T23:14:20.142276Z"
    }
   },
   "outputs": [
    {
     "data": {
      "text/plain": [
       "[b'3', b'hello', b'1']"
      ]
     },
     "execution_count": 114,
     "metadata": {},
     "output_type": "execute_result"
    }
   ],
   "source": [
    "ss[1] = 'hello'\n",
    "list(ss)"
   ]
  },
  {
   "cell_type": "code",
   "execution_count": 115,
   "metadata": {
    "ExecuteTime": {
     "end_time": "2020-06-09T23:14:38.196573Z",
     "start_time": "2020-06-09T23:14:38.180938Z"
    }
   },
   "outputs": [],
   "source": [
    "ss = RedisList(s._source, 'does not exist')"
   ]
  },
  {
   "cell_type": "code",
   "execution_count": null,
   "metadata": {},
   "outputs": [],
   "source": [
    "Redis.lpushx()"
   ]
  },
  {
   "cell_type": "code",
   "execution_count": 116,
   "metadata": {
    "ExecuteTime": {
     "end_time": "2020-06-09T23:14:45.070177Z",
     "start_time": "2020-06-09T23:14:45.042891Z"
    }
   },
   "outputs": [
    {
     "ename": "ResponseError",
     "evalue": "no such key",
     "output_type": "error",
     "traceback": [
      "\u001b[0;31m---------------------------------------------------------------------------\u001b[0m",
      "\u001b[0;31mResponseError\u001b[0m                             Traceback (most recent call last)",
      "\u001b[0;32m<ipython-input-116-99d19b4417f8>\u001b[0m in \u001b[0;36m<module>\u001b[0;34m\u001b[0m\n\u001b[0;32m----> 1\u001b[0;31m \u001b[0mss\u001b[0m\u001b[0;34m[\u001b[0m\u001b[0;36m0\u001b[0m\u001b[0;34m]\u001b[0m \u001b[0;34m=\u001b[0m \u001b[0;34m'now'\u001b[0m\u001b[0;34m\u001b[0m\u001b[0;34m\u001b[0m\u001b[0m\n\u001b[0m",
      "\u001b[0;32m/D/Dropbox/dev/p3/proj/py2store/py2store/persisters/redis_w_redis.py\u001b[0m in \u001b[0;36m__setitem__\u001b[0;34m(self, i, v)\u001b[0m\n\u001b[1;32m    182\u001b[0m     \"\"\"\n\u001b[1;32m    183\u001b[0m     \u001b[0;32mdef\u001b[0m \u001b[0m__setitem__\u001b[0m\u001b[0;34m(\u001b[0m\u001b[0mself\u001b[0m\u001b[0;34m,\u001b[0m \u001b[0mi\u001b[0m\u001b[0;34m,\u001b[0m \u001b[0mv\u001b[0m\u001b[0;34m)\u001b[0m\u001b[0;34m:\u001b[0m\u001b[0;34m\u001b[0m\u001b[0;34m\u001b[0m\u001b[0m\n\u001b[0;32m--> 184\u001b[0;31m         \u001b[0;32mreturn\u001b[0m \u001b[0mself\u001b[0m\u001b[0;34m.\u001b[0m\u001b[0m_source\u001b[0m\u001b[0;34m.\u001b[0m\u001b[0mlset\u001b[0m\u001b[0;34m(\u001b[0m\u001b[0mself\u001b[0m\u001b[0;34m.\u001b[0m\u001b[0m_name\u001b[0m\u001b[0;34m,\u001b[0m \u001b[0mi\u001b[0m\u001b[0;34m,\u001b[0m \u001b[0mv\u001b[0m\u001b[0;34m)\u001b[0m\u001b[0;34m\u001b[0m\u001b[0;34m\u001b[0m\u001b[0m\n\u001b[0m\u001b[1;32m    185\u001b[0m \u001b[0;34m\u001b[0m\u001b[0m\n\u001b[1;32m    186\u001b[0m     \u001b[0;32mdef\u001b[0m \u001b[0m__delitem__\u001b[0m\u001b[0;34m(\u001b[0m\u001b[0mself\u001b[0m\u001b[0;34m,\u001b[0m \u001b[0mi\u001b[0m\u001b[0;34m)\u001b[0m\u001b[0;34m:\u001b[0m  \u001b[0;31m# TODO: Implement\u001b[0m\u001b[0;34m\u001b[0m\u001b[0;34m\u001b[0m\u001b[0m\n",
      "\u001b[0;32m~/.virtualenvs/382/lib/python3.8/site-packages/redis/client.py\u001b[0m in \u001b[0;36mlset\u001b[0;34m(self, name, index, value)\u001b[0m\n\u001b[1;32m   1989\u001b[0m     \u001b[0;32mdef\u001b[0m \u001b[0mlset\u001b[0m\u001b[0;34m(\u001b[0m\u001b[0mself\u001b[0m\u001b[0;34m,\u001b[0m \u001b[0mname\u001b[0m\u001b[0;34m,\u001b[0m \u001b[0mindex\u001b[0m\u001b[0;34m,\u001b[0m \u001b[0mvalue\u001b[0m\u001b[0;34m)\u001b[0m\u001b[0;34m:\u001b[0m\u001b[0;34m\u001b[0m\u001b[0;34m\u001b[0m\u001b[0m\n\u001b[1;32m   1990\u001b[0m         \u001b[0;34m\"Set ``position`` of list ``name`` to ``value``\"\u001b[0m\u001b[0;34m\u001b[0m\u001b[0;34m\u001b[0m\u001b[0m\n\u001b[0;32m-> 1991\u001b[0;31m         \u001b[0;32mreturn\u001b[0m \u001b[0mself\u001b[0m\u001b[0;34m.\u001b[0m\u001b[0mexecute_command\u001b[0m\u001b[0;34m(\u001b[0m\u001b[0;34m'LSET'\u001b[0m\u001b[0;34m,\u001b[0m \u001b[0mname\u001b[0m\u001b[0;34m,\u001b[0m \u001b[0mindex\u001b[0m\u001b[0;34m,\u001b[0m \u001b[0mvalue\u001b[0m\u001b[0;34m)\u001b[0m\u001b[0;34m\u001b[0m\u001b[0;34m\u001b[0m\u001b[0m\n\u001b[0m\u001b[1;32m   1992\u001b[0m \u001b[0;34m\u001b[0m\u001b[0m\n\u001b[1;32m   1993\u001b[0m     \u001b[0;32mdef\u001b[0m \u001b[0mltrim\u001b[0m\u001b[0;34m(\u001b[0m\u001b[0mself\u001b[0m\u001b[0;34m,\u001b[0m \u001b[0mname\u001b[0m\u001b[0;34m,\u001b[0m \u001b[0mstart\u001b[0m\u001b[0;34m,\u001b[0m \u001b[0mend\u001b[0m\u001b[0;34m)\u001b[0m\u001b[0;34m:\u001b[0m\u001b[0;34m\u001b[0m\u001b[0;34m\u001b[0m\u001b[0m\n",
      "\u001b[0;32m~/.virtualenvs/382/lib/python3.8/site-packages/redis/client.py\u001b[0m in \u001b[0;36mexecute_command\u001b[0;34m(self, *args, **options)\u001b[0m\n\u001b[1;32m    899\u001b[0m         \u001b[0;32mtry\u001b[0m\u001b[0;34m:\u001b[0m\u001b[0;34m\u001b[0m\u001b[0;34m\u001b[0m\u001b[0m\n\u001b[1;32m    900\u001b[0m             \u001b[0mconn\u001b[0m\u001b[0;34m.\u001b[0m\u001b[0msend_command\u001b[0m\u001b[0;34m(\u001b[0m\u001b[0;34m*\u001b[0m\u001b[0margs\u001b[0m\u001b[0;34m)\u001b[0m\u001b[0;34m\u001b[0m\u001b[0;34m\u001b[0m\u001b[0m\n\u001b[0;32m--> 901\u001b[0;31m             \u001b[0;32mreturn\u001b[0m \u001b[0mself\u001b[0m\u001b[0;34m.\u001b[0m\u001b[0mparse_response\u001b[0m\u001b[0;34m(\u001b[0m\u001b[0mconn\u001b[0m\u001b[0;34m,\u001b[0m \u001b[0mcommand_name\u001b[0m\u001b[0;34m,\u001b[0m \u001b[0;34m**\u001b[0m\u001b[0moptions\u001b[0m\u001b[0;34m)\u001b[0m\u001b[0;34m\u001b[0m\u001b[0;34m\u001b[0m\u001b[0m\n\u001b[0m\u001b[1;32m    902\u001b[0m         \u001b[0;32mexcept\u001b[0m \u001b[0;34m(\u001b[0m\u001b[0mConnectionError\u001b[0m\u001b[0;34m,\u001b[0m \u001b[0mTimeoutError\u001b[0m\u001b[0;34m)\u001b[0m \u001b[0;32mas\u001b[0m \u001b[0me\u001b[0m\u001b[0;34m:\u001b[0m\u001b[0;34m\u001b[0m\u001b[0;34m\u001b[0m\u001b[0m\n\u001b[1;32m    903\u001b[0m             \u001b[0mconn\u001b[0m\u001b[0;34m.\u001b[0m\u001b[0mdisconnect\u001b[0m\u001b[0;34m(\u001b[0m\u001b[0;34m)\u001b[0m\u001b[0;34m\u001b[0m\u001b[0;34m\u001b[0m\u001b[0m\n",
      "\u001b[0;32m~/.virtualenvs/382/lib/python3.8/site-packages/redis/client.py\u001b[0m in \u001b[0;36mparse_response\u001b[0;34m(self, connection, command_name, **options)\u001b[0m\n\u001b[1;32m    913\u001b[0m         \u001b[0;34m\"Parses a response from the Redis server\"\u001b[0m\u001b[0;34m\u001b[0m\u001b[0;34m\u001b[0m\u001b[0m\n\u001b[1;32m    914\u001b[0m         \u001b[0;32mtry\u001b[0m\u001b[0;34m:\u001b[0m\u001b[0;34m\u001b[0m\u001b[0;34m\u001b[0m\u001b[0m\n\u001b[0;32m--> 915\u001b[0;31m             \u001b[0mresponse\u001b[0m \u001b[0;34m=\u001b[0m \u001b[0mconnection\u001b[0m\u001b[0;34m.\u001b[0m\u001b[0mread_response\u001b[0m\u001b[0;34m(\u001b[0m\u001b[0;34m)\u001b[0m\u001b[0;34m\u001b[0m\u001b[0;34m\u001b[0m\u001b[0m\n\u001b[0m\u001b[1;32m    916\u001b[0m         \u001b[0;32mexcept\u001b[0m \u001b[0mResponseError\u001b[0m\u001b[0;34m:\u001b[0m\u001b[0;34m\u001b[0m\u001b[0;34m\u001b[0m\u001b[0m\n\u001b[1;32m    917\u001b[0m             \u001b[0;32mif\u001b[0m \u001b[0mEMPTY_RESPONSE\u001b[0m \u001b[0;32min\u001b[0m \u001b[0moptions\u001b[0m\u001b[0;34m:\u001b[0m\u001b[0;34m\u001b[0m\u001b[0;34m\u001b[0m\u001b[0m\n",
      "\u001b[0;32m~/.virtualenvs/382/lib/python3.8/site-packages/redis/connection.py\u001b[0m in \u001b[0;36mread_response\u001b[0;34m(self)\u001b[0m\n\u001b[1;32m    754\u001b[0m \u001b[0;34m\u001b[0m\u001b[0m\n\u001b[1;32m    755\u001b[0m         \u001b[0;32mif\u001b[0m \u001b[0misinstance\u001b[0m\u001b[0;34m(\u001b[0m\u001b[0mresponse\u001b[0m\u001b[0;34m,\u001b[0m \u001b[0mResponseError\u001b[0m\u001b[0;34m)\u001b[0m\u001b[0;34m:\u001b[0m\u001b[0;34m\u001b[0m\u001b[0;34m\u001b[0m\u001b[0m\n\u001b[0;32m--> 756\u001b[0;31m             \u001b[0;32mraise\u001b[0m \u001b[0mresponse\u001b[0m\u001b[0;34m\u001b[0m\u001b[0;34m\u001b[0m\u001b[0m\n\u001b[0m\u001b[1;32m    757\u001b[0m         \u001b[0;32mreturn\u001b[0m \u001b[0mresponse\u001b[0m\u001b[0;34m\u001b[0m\u001b[0;34m\u001b[0m\u001b[0m\n\u001b[1;32m    758\u001b[0m \u001b[0;34m\u001b[0m\u001b[0m\n",
      "\u001b[0;31mResponseError\u001b[0m: no such key"
     ]
    }
   ],
   "source": [
    "ss[0] = 'now'"
   ]
  },
  {
   "cell_type": "code",
   "execution_count": null,
   "metadata": {},
   "outputs": [],
   "source": [
    "list.extend()"
   ]
  },
  {
   "cell_type": "markdown",
   "metadata": {},
   "source": [
    "# Redis types"
   ]
  },
  {
   "cell_type": "code",
   "execution_count": null,
   "metadata": {},
   "outputs": [],
   "source": []
  },
  {
   "cell_type": "markdown",
   "metadata": {},
   "source": [
    "Taking the Type/Commands table from https://realpython.com/python-redis/#more-data-types-in-python-vs-redis, copy/paste/editing to csv, and using https://www.tablesgenerator.com/markdown_tables, I get:\n",
    "\n",
    "| Type \t| Commands \t|\n",
    "|-\t|-\t|\n",
    "| Sets \t| SADD, SCARD, SDIFF, SDIFFSTORE, SINTER, SINTERSTORE, SISMEMBER, SMEMBERS, SMOVE, SPOP, SRANDMEMBER, SREM, SSCAN, SUNION, SUNIONSTORE \t|\n",
    "| Hashes \t| HDEL, HEXISTS, HGET, HGETALL, HINCRBY, HINCRBYFLOAT, HKEYS, HLEN, HMGET, HMSET, HSCAN, HSET, HSETNX, HSTRLEN, HVALS\" \t|\n",
    "| Lists \t| BLPOP, BRPOP, BRPOPLPUSH, LINDEX, LINSERT, LLEN, LPOP, LPUSH, LPUSHX, LRANGE, LREM, LSET, LTRIM, RPOP, RPOPLPUSH, RPUSH, RPUSHX \t|\n",
    "| Strings \t| APPEND, BITCOUNT, BITFIELD, BITOP, BITPOS, DECR, DECRBY, GET, GETBIT, GETRANGE, GETSET, INCR, INCRBY, INCRBYFLOAT, MGET, MSET, MSETNX, PSETEX, SET, SETBIT, SETEX, SETNX, SETRANGE, STRLEN \t||  "
   ]
  },
  {
   "cell_type": "code",
   "execution_count": 54,
   "metadata": {
    "ExecuteTime": {
     "end_time": "2020-06-09T22:16:18.798346Z",
     "start_time": "2020-06-09T22:16:18.773572Z"
    }
   },
   "outputs": [
    {
     "name": "stdout",
     "output_type": "stream",
     "text": [
      "\n",
      "rpushx: (self, name, value)\n",
      "\tPush ``value`` onto the tail of the list ``name`` if ``name`` exists...\n",
      "lset: (self, name, index, value)\n",
      "\tSet ``position`` of list ``name`` to ``value``...\n",
      "brpop: (self, keys, timeout=0)\n",
      "\tRPOP a value off of the first non-empty list...\n",
      "rpop: (self, name)\n",
      "\tRemove and return the last item of the list ``name``...\n",
      "rpoplpush: (self, src, dst)\n",
      "\tRPOP a value off of the ``src`` list and atomically LPUSH it...\n",
      "lrange: (self, name, start, end)\n",
      "\tReturn a slice of the list ``name`` between...\n",
      "blpop: (self, keys, timeout=0)\n",
      "\tLPOP a value off of the first non-empty list...\n",
      "lpush: (self, name, *values)\n",
      "\tPush ``values`` onto the head of the list ``name``...\n",
      "lrem: (self, name, count, value)\n",
      "\tRemove the first ``count`` occurrences of elements equal to ``value``...\n",
      "ltrim: (self, name, start, end)\n",
      "\tTrim the list ``name``, removing all values not within the slice...\n",
      "lpop: (self, name)\n",
      "\tRemove and return the first item of the list ``name``...\n",
      "llen: (self, name)\n",
      "\tReturn the length of the list ``name``...\n",
      "lpushx: (self, name, value)\n",
      "\tPush ``value`` onto the head of the list ``name`` if ``name`` exists...\n",
      "linsert: (self, name, where, refvalue, value)\n",
      "\tInsert ``value`` in list ``name`` either immediately before or after...\n",
      "lindex: (self, name, index)\n",
      "\tReturn the item from list ``name`` at position ``index``...\n",
      "rpush: (self, name, *values)\n",
      "\tPush ``values`` onto the tail of the list ``name``...\n",
      "brpoplpush: (self, src, dst, timeout=0)\n",
      "\tPop a value off the tail of ``src``, push it on the head of ``dst``...\n"
     ]
    }
   ],
   "source": [
    "from redis import Redis\n",
    "from inspect import signature\n",
    "\n",
    "list_methods = [x.lower().strip() for x in \n",
    "                \"BLPOP, BRPOP, BRPOPLPUSH, LINDEX, LINSERT, LLEN, LPOP, LPUSH, LPUSHX, LRANGE, \\\n",
    "                LREM, LSET, LTRIM, RPOP, RPOPLPUSH, RPUSH, RPUSHX\".split(', ')]\n",
    "not_found = []\n",
    "for method in list_methods:\n",
    "    if not method in dir(Redis):\n",
    "        not_found.append(method)\n",
    "    assert hasattr(Redis, method)\n",
    "if not_found:\n",
    "    print(f\"Methods not found:\\n{not_found}\")\n",
    "print(\"\")\n",
    "list_methods = list(set(list_methods) - set(not_found))\n",
    "\n",
    "import re\n",
    "space = re.compile('\\s+$')\n",
    "def get_first_doc_line(obj):\n",
    "    for line in obj.__doc__.splitlines():\n",
    "        if line and not space.match(line):\n",
    "            return line.strip() + \"...\"\n",
    "    return \"\"\n",
    "\n",
    "for method in list_methods:\n",
    "    m = getattr(Redis, method)\n",
    "    print(f\"{method}: {signature(m)}\" + \"\\n\\t\" + f\"{get_first_doc_line(m)}\")"
   ]
  },
  {
   "cell_type": "code",
   "execution_count": 93,
   "metadata": {
    "ExecuteTime": {
     "end_time": "2020-06-09T23:02:19.691850Z",
     "start_time": "2020-06-09T23:02:19.676427Z"
    }
   },
   "outputs": [],
   "source": [
    "from collections import deque"
   ]
  },
  {
   "cell_type": "code",
   "execution_count": 95,
   "metadata": {
    "ExecuteTime": {
     "end_time": "2020-06-09T23:02:30.967078Z",
     "start_time": "2020-06-09T23:02:30.949554Z"
    }
   },
   "outputs": [
    {
     "data": {
      "text/plain": [
       "['__add__',\n",
       " '__bool__',\n",
       " '__class__',\n",
       " '__contains__',\n",
       " '__copy__',\n",
       " '__delattr__',\n",
       " '__delitem__',\n",
       " '__dir__',\n",
       " '__doc__',\n",
       " '__eq__',\n",
       " '__format__',\n",
       " '__ge__',\n",
       " '__getattribute__',\n",
       " '__getitem__',\n",
       " '__gt__',\n",
       " '__hash__',\n",
       " '__iadd__',\n",
       " '__imul__',\n",
       " '__init__',\n",
       " '__init_subclass__',\n",
       " '__iter__',\n",
       " '__le__',\n",
       " '__len__',\n",
       " '__lt__',\n",
       " '__mul__',\n",
       " '__ne__',\n",
       " '__new__',\n",
       " '__reduce__',\n",
       " '__reduce_ex__',\n",
       " '__repr__',\n",
       " '__reversed__',\n",
       " '__rmul__',\n",
       " '__setattr__',\n",
       " '__setitem__',\n",
       " '__sizeof__',\n",
       " '__str__',\n",
       " '__subclasshook__',\n",
       " 'append',\n",
       " 'appendleft',\n",
       " 'clear',\n",
       " 'copy',\n",
       " 'count',\n",
       " 'extend',\n",
       " 'extendleft',\n",
       " 'index',\n",
       " 'insert',\n",
       " 'maxlen',\n",
       " 'pop',\n",
       " 'popleft',\n",
       " 'remove',\n",
       " 'reverse',\n",
       " 'rotate']"
      ]
     },
     "execution_count": 95,
     "metadata": {},
     "output_type": "execute_result"
    }
   ],
   "source": [
    "dir(deque)"
   ]
  },
  {
   "cell_type": "code",
   "execution_count": 104,
   "metadata": {
    "ExecuteTime": {
     "end_time": "2020-06-09T23:04:20.493337Z",
     "start_time": "2020-06-09T23:04:20.478054Z"
    }
   },
   "outputs": [],
   "source": [
    "t = deque([1,2,3], maxlen=3)\n",
    "t.append(4)"
   ]
  },
  {
   "cell_type": "code",
   "execution_count": 109,
   "metadata": {
    "ExecuteTime": {
     "end_time": "2020-06-09T23:08:18.986850Z",
     "start_time": "2020-06-09T23:08:18.970078Z"
    }
   },
   "outputs": [
    {
     "data": {
      "text/plain": [
       "[1, 2, 'asdf', 3, 4]"
      ]
     },
     "execution_count": 109,
     "metadata": {},
     "output_type": "execute_result"
    }
   ],
   "source": [
    "t = [1,2,3,4]\n",
    "t.insert(2, 'asdf')\n",
    "t"
   ]
  },
  {
   "cell_type": "code",
   "execution_count": null,
   "metadata": {},
   "outputs": [],
   "source": [
    "Redis.linsert()"
   ]
  },
  {
   "cell_type": "code",
   "execution_count": 108,
   "metadata": {
    "ExecuteTime": {
     "end_time": "2020-06-09T23:08:16.289799Z",
     "start_time": "2020-06-09T23:08:16.266223Z"
    }
   },
   "outputs": [
    {
     "ename": "NameError",
     "evalue": "name 'passma' is not defined",
     "output_type": "error",
     "traceback": [
      "\u001b[0;31m---------------------------------------------------------------------------\u001b[0m",
      "\u001b[0;31mNameError\u001b[0m                                 Traceback (most recent call last)",
      "\u001b[0;32m<ipython-input-108-aa274e2ef847>\u001b[0m in \u001b[0;36m<module>\u001b[0;34m\u001b[0m\n\u001b[0;32m----> 1\u001b[0;31m \u001b[0;32mclass\u001b[0m \u001b[0mA\u001b[0m\u001b[0;34m(\u001b[0m\u001b[0mdeque\u001b[0m\u001b[0;34m)\u001b[0m\u001b[0;34m:\u001b[0m\u001b[0;34m\u001b[0m\u001b[0;34m\u001b[0m\u001b[0m\n\u001b[0m\u001b[1;32m      2\u001b[0m     \u001b[0mpassma\u001b[0m\u001b[0;34m\u001b[0m\u001b[0;34m\u001b[0m\u001b[0m\n\u001b[1;32m      3\u001b[0m     \u001b[0mt\u001b[0m\u001b[0;34m\u001b[0m\u001b[0;34m\u001b[0m\u001b[0m\n",
      "\u001b[0;32m<ipython-input-108-aa274e2ef847>\u001b[0m in \u001b[0;36mA\u001b[0;34m()\u001b[0m\n\u001b[1;32m      1\u001b[0m \u001b[0;32mclass\u001b[0m \u001b[0mA\u001b[0m\u001b[0;34m(\u001b[0m\u001b[0mdeque\u001b[0m\u001b[0;34m)\u001b[0m\u001b[0;34m:\u001b[0m\u001b[0;34m\u001b[0m\u001b[0;34m\u001b[0m\u001b[0m\n\u001b[0;32m----> 2\u001b[0;31m     \u001b[0mpassma\u001b[0m\u001b[0;34m\u001b[0m\u001b[0;34m\u001b[0m\u001b[0m\n\u001b[0m\u001b[1;32m      3\u001b[0m     \u001b[0mt\u001b[0m\u001b[0;34m\u001b[0m\u001b[0;34m\u001b[0m\u001b[0m\n",
      "\u001b[0;31mNameError\u001b[0m: name 'passma' is not defined"
     ]
    }
   ],
   "source": [
    "class A(deque):\n",
    "    passma\n",
    "    t"
   ]
  },
  {
   "cell_type": "markdown",
   "metadata": {},
   "source": [
    "# Scrap"
   ]
  },
  {
   "cell_type": "markdown",
   "metadata": {},
   "source": [
    "## Trying redis out"
   ]
  },
  {
   "cell_type": "code",
   "execution_count": 121,
   "metadata": {
    "ExecuteTime": {
     "end_time": "2020-06-09T19:37:37.956306Z",
     "start_time": "2020-06-09T19:37:37.936815Z"
    }
   },
   "outputs": [],
   "source": [
    "import redis\n",
    "\n",
    "r = redis.Redis()\n",
    "# print(\", \".join(dir(r)))"
   ]
  },
  {
   "cell_type": "code",
   "execution_count": 122,
   "metadata": {
    "ExecuteTime": {
     "end_time": "2020-06-09T19:39:07.609766Z",
     "start_time": "2020-06-09T19:39:07.579759Z"
    }
   },
   "outputs": [
    {
     "data": {
      "text/plain": [
       "[b'hello', b'foo']"
      ]
     },
     "execution_count": 122,
     "metadata": {},
     "output_type": "execute_result"
    }
   ],
   "source": [
    "r.set('hello', 'world')\n",
    "r.keys()"
   ]
  },
  {
   "cell_type": "code",
   "execution_count": 126,
   "metadata": {
    "ExecuteTime": {
     "end_time": "2020-06-09T19:40:30.142577Z",
     "start_time": "2020-06-09T19:40:29.608708Z"
    }
   },
   "outputs": [
    {
     "data": {
      "text/plain": [
       "[b'hello', b'one', b'foo']"
      ]
     },
     "execution_count": 126,
     "metadata": {},
     "output_type": "execute_result"
    }
   ],
   "source": [
    "r.__setitem__('one', 'two')\n",
    "r.keys()"
   ]
  },
  {
   "cell_type": "code",
   "execution_count": 127,
   "metadata": {
    "ExecuteTime": {
     "end_time": "2020-06-09T19:41:55.253882Z",
     "start_time": "2020-06-09T19:41:54.903616Z"
    }
   },
   "outputs": [
    {
     "data": {
      "text/plain": [
       "True"
      ]
     },
     "execution_count": 127,
     "metadata": {},
     "output_type": "execute_result"
    }
   ],
   "source": [
    "'one' in r"
   ]
  },
  {
   "cell_type": "code",
   "execution_count": null,
   "metadata": {},
   "outputs": [],
   "source": [
    "s['users'][10]"
   ]
  },
  {
   "cell_type": "code",
   "execution_count": null,
   "metadata": {},
   "outputs": [],
   "source": [
    "s['users'][10]  r.get('users', 10)"
   ]
  },
  {
   "cell_type": "code",
   "execution_count": null,
   "metadata": {},
   "outputs": [],
   "source": [
    "s['users'][10]"
   ]
  },
  {
   "cell_type": "code",
   "execution_count": 130,
   "metadata": {
    "ExecuteTime": {
     "end_time": "2020-06-09T20:00:03.032469Z",
     "start_time": "2020-06-09T20:00:02.529938Z"
    }
   },
   "outputs": [
    {
     "data": {
      "text/plain": [
       "b'string'"
      ]
     },
     "execution_count": 130,
     "metadata": {},
     "output_type": "execute_result"
    }
   ],
   "source": [
    "r.type('foo')"
   ]
  },
  {
   "cell_type": "code",
   "execution_count": 133,
   "metadata": {
    "ExecuteTime": {
     "end_time": "2020-06-09T20:00:22.095641Z",
     "start_time": "2020-06-09T20:00:21.693026Z"
    }
   },
   "outputs": [
    {
     "data": {
      "text/plain": [
       "bytes"
      ]
     },
     "execution_count": 133,
     "metadata": {},
     "output_type": "execute_result"
    }
   ],
   "source": [
    "type(r['foo'])"
   ]
  },
  {
   "cell_type": "code",
   "execution_count": 138,
   "metadata": {
    "ExecuteTime": {
     "end_time": "2020-06-09T20:03:31.073860Z",
     "start_time": "2020-06-09T20:03:30.656375Z"
    }
   },
   "outputs": [
    {
     "data": {
      "text/plain": [
       "b'string'"
      ]
     },
     "execution_count": 138,
     "metadata": {},
     "output_type": "execute_result"
    }
   ],
   "source": [
    "r.set('a_list', 1)\n",
    "r.type('a_list')"
   ]
  },
  {
   "cell_type": "code",
   "execution_count": 141,
   "metadata": {
    "ExecuteTime": {
     "end_time": "2020-06-09T20:05:00.738770Z",
     "start_time": "2020-06-09T20:05:00.504852Z"
    }
   },
   "outputs": [
    {
     "data": {
      "text/plain": [
       "5"
      ]
     },
     "execution_count": 141,
     "metadata": {},
     "output_type": "execute_result"
    }
   ],
   "source": [
    "r.rpush('another_list', 3, 10, 'bob')"
   ]
  },
  {
   "cell_type": "code",
   "execution_count": 143,
   "metadata": {
    "ExecuteTime": {
     "end_time": "2020-06-09T20:06:57.859525Z",
     "start_time": "2020-06-09T20:06:57.624706Z"
    }
   },
   "outputs": [
    {
     "data": {
      "text/plain": [
       "b'list'"
      ]
     },
     "execution_count": 143,
     "metadata": {},
     "output_type": "execute_result"
    }
   ],
   "source": [
    "r.type('another_list')"
   ]
  },
  {
   "cell_type": "code",
   "execution_count": 153,
   "metadata": {
    "ExecuteTime": {
     "end_time": "2020-06-09T20:09:36.347619Z",
     "start_time": "2020-06-09T20:09:35.976183Z"
    }
   },
   "outputs": [
    {
     "data": {
      "text/plain": [
       "[b'3', b'10', b'3', b'10', b'bob']"
      ]
     },
     "execution_count": 153,
     "metadata": {},
     "output_type": "execute_result"
    }
   ],
   "source": [
    "r.lrange('another_list', 0, int(1e3))"
   ]
  },
  {
   "cell_type": "code",
   "execution_count": 135,
   "metadata": {
    "ExecuteTime": {
     "end_time": "2020-06-09T20:01:21.437560Z",
     "start_time": "2020-06-09T20:01:21.120986Z"
    }
   },
   "outputs": [
    {
     "data": {
      "text/plain": [
       "b'string'"
      ]
     },
     "execution_count": 135,
     "metadata": {},
     "output_type": "execute_result"
    }
   ],
   "source": [
    "r.type('bytes')"
   ]
  },
  {
   "cell_type": "code",
   "execution_count": 132,
   "metadata": {
    "ExecuteTime": {
     "end_time": "2020-06-09T20:00:12.448709Z",
     "start_time": "2020-06-09T20:00:12.112258Z"
    }
   },
   "outputs": [],
   "source": [
    "import builtins\n",
    "'input' in dir(builtins)\n",
    "\n",
    "import inspect\n",
    "assert not inspect.isbuiltin(builtins.list)\n",
    "assert not inspect.isbuiltin(builtins.list())"
   ]
  },
  {
   "cell_type": "code",
   "execution_count": 99,
   "metadata": {
    "ExecuteTime": {
     "end_time": "2020-06-09T19:14:09.857182Z",
     "start_time": "2020-06-09T19:14:09.835294Z"
    }
   },
   "outputs": [
    {
     "data": {
      "text/plain": [
       "True"
      ]
     },
     "execution_count": 99,
     "metadata": {},
     "output_type": "execute_result"
    }
   ],
   "source": [
    "r.set('foo', 'bar')"
   ]
  },
  {
   "cell_type": "markdown",
   "metadata": {},
   "source": [
    "## RedisPersister"
   ]
  },
  {
   "cell_type": "code",
   "execution_count": 56,
   "metadata": {
    "ExecuteTime": {
     "end_time": "2020-06-09T22:27:59.972372Z",
     "start_time": "2020-06-09T22:27:59.683578Z"
    }
   },
   "outputs": [],
   "source": [
    "from py2store.persisters.redis_w_redis import RedisPersister"
   ]
  },
  {
   "cell_type": "code",
   "execution_count": 57,
   "metadata": {
    "ExecuteTime": {
     "end_time": "2020-06-09T22:28:00.088422Z",
     "start_time": "2020-06-09T22:28:00.073811Z"
    }
   },
   "outputs": [],
   "source": [
    "s = RedisPersister()"
   ]
  },
  {
   "cell_type": "code",
   "execution_count": 58,
   "metadata": {
    "ExecuteTime": {
     "end_time": "2020-06-09T22:28:00.931212Z",
     "start_time": "2020-06-09T22:28:00.913014Z"
    }
   },
   "outputs": [
    {
     "data": {
      "text/plain": [
       "[b'one', b'another_list', b'bytes', b'int', b'float', b'foo']"
      ]
     },
     "execution_count": 58,
     "metadata": {},
     "output_type": "execute_result"
    }
   ],
   "source": [
    "list(s)"
   ]
  },
  {
   "cell_type": "code",
   "execution_count": 65,
   "metadata": {
    "ExecuteTime": {
     "end_time": "2020-06-09T22:30:14.752187Z",
     "start_time": "2020-06-09T22:30:14.734264Z"
    }
   },
   "outputs": [
    {
     "name": "stdout",
     "output_type": "stream",
     "text": [
      "b'3'\n",
      "b'10'\n",
      "b'3'\n",
      "b'10'\n",
      "b'bob'\n"
     ]
    }
   ],
   "source": [
    "from itertools import count\n",
    "for i in range(s._source.llen('another_list')):\n",
    "    print(s._source.lindex('another_list', i))"
   ]
  },
  {
   "cell_type": "code",
   "execution_count": 163,
   "metadata": {
    "ExecuteTime": {
     "end_time": "2020-06-09T20:35:42.492134Z",
     "start_time": "2020-06-09T20:35:42.473214Z"
    }
   },
   "outputs": [],
   "source": [
    "del s['hello']\n",
    "del s['a_list']"
   ]
  },
  {
   "cell_type": "code",
   "execution_count": 180,
   "metadata": {
    "ExecuteTime": {
     "end_time": "2020-06-09T20:41:33.353936Z",
     "start_time": "2020-06-09T20:41:33.330540Z"
    }
   },
   "outputs": [],
   "source": [
    "from py2store.persisters.redis_w_redis import RedisPersister\n",
    "s = RedisPersister()  # plenty of params possible (all those of redis.Redis), but taking defaults. \n",
    "\n",
    "keys = ['_pyst_test_str', '_pyst_test_int', '_pyst_test_float']\n",
    "for k in keys:\n",
    "    del s[k]\n",
    "    \n",
    "    \n",
    "before_length = len(s)\n",
    "\n",
    "\n",
    "s['_pyst_test_str'] = 'hello'\n",
    "assert s['_pyst_test_str'] == b'hello'\n",
    "\n",
    "s['_pyst_test_int'] = 42\n",
    "assert s['_pyst_test_int'] == b'42'\n",
    "\n",
    "s['_pyst_test_float'] = 3.14\n",
    "assert s['_pyst_test_float'] == b'3.14'\n",
    "\n",
    "assert len(s) == before_length + 3\n",
    "\n",
    "keys = ['_pyst_test_str', '_pyst_test_int', '_pyst_test_float']\n",
    "for k in keys:\n",
    "    del s[k]"
   ]
  },
  {
   "cell_type": "code",
   "execution_count": null,
   "metadata": {},
   "outputs": [],
   "source": []
  },
  {
   "cell_type": "code",
   "execution_count": 47,
   "metadata": {
    "ExecuteTime": {
     "end_time": "2020-06-09T22:15:12.113912Z",
     "start_time": "2020-06-09T22:15:12.099884Z"
    }
   },
   "outputs": [
    {
     "data": {
      "text/plain": [
       "<re.Match object; span=(0, 5), match='     '>"
      ]
     },
     "execution_count": 47,
     "metadata": {},
     "output_type": "execute_result"
    }
   ],
   "source": [
    "space.match('     ')"
   ]
  },
  {
   "cell_type": "code",
   "execution_count": 53,
   "metadata": {
    "ExecuteTime": {
     "end_time": "2020-06-09T22:16:07.054130Z",
     "start_time": "2020-06-09T22:16:07.038361Z"
    }
   },
   "outputs": [
    {
     "data": {
      "text/plain": [
       "'Insert ``value`` in list ``name`` either immediately before or after...'"
      ]
     },
     "execution_count": 53,
     "metadata": {},
     "output_type": "execute_result"
    }
   ],
   "source": [
    "import re\n",
    "space = re.compile('\\s+$')\n",
    "def get_first_doc_line(obj):\n",
    "    for line in obj.__doc__.splitlines():\n",
    "        if line and not space.match(line):\n",
    "            return line.strip() + \"...\"\n",
    "    return \"\"\n",
    "\n",
    "get_first_doc_line(Redis.linsert)"
   ]
  },
  {
   "cell_type": "code",
   "execution_count": 44,
   "metadata": {
    "ExecuteTime": {
     "end_time": "2020-06-09T22:14:39.110764Z",
     "start_time": "2020-06-09T22:14:39.096430Z"
    }
   },
   "outputs": [
    {
     "data": {
      "text/plain": [
       "7"
      ]
     },
     "execution_count": 44,
     "metadata": {},
     "output_type": "execute_result"
    }
   ],
   "source": [
    "len(Redis.linsert.__doc__.splitlines())"
   ]
  },
  {
   "cell_type": "code",
   "execution_count": 40,
   "metadata": {
    "ExecuteTime": {
     "end_time": "2020-06-09T22:13:43.238390Z",
     "start_time": "2020-06-09T22:13:43.224207Z"
    }
   },
   "outputs": [
    {
     "data": {
      "text/plain": [
       "['',\n",
       " '        Insert ``value`` in list ``name`` either immediately before or after',\n",
       " '        [``where``] ``refvalue``',\n",
       " '',\n",
       " '        Returns the new length of the list on success or -1 if ``refvalue``',\n",
       " '        is not in the list.',\n",
       " '        ']"
      ]
     },
     "execution_count": 40,
     "metadata": {},
     "output_type": "execute_result"
    }
   ],
   "source": [
    "Redis.linsert.__doc__.splitlines()\n"
   ]
  },
  {
   "cell_type": "code",
   "execution_count": 186,
   "metadata": {
    "ExecuteTime": {
     "end_time": "2020-06-09T21:26:03.026958Z",
     "start_time": "2020-06-09T21:26:03.006357Z"
    }
   },
   "outputs": [
    {
     "data": {
      "text/plain": [
       "['hdel',\n",
       " 'hexists',\n",
       " 'hget',\n",
       " 'hgetall',\n",
       " 'hincrby',\n",
       " 'hincrbyfloat',\n",
       " 'hkeys',\n",
       " 'hlen',\n",
       " 'hmget',\n",
       " 'hmset',\n",
       " 'hscan',\n",
       " 'hscan_iter',\n",
       " 'hset',\n",
       " 'hsetnx',\n",
       " 'hstrlen',\n",
       " 'hvals']"
      ]
     },
     "execution_count": 186,
     "metadata": {},
     "output_type": "execute_result"
    }
   ],
   "source": [
    "[x for x in dir(s._source) if x.startswith('h')]"
   ]
  },
  {
   "cell_type": "code",
   "execution_count": 185,
   "metadata": {
    "ExecuteTime": {
     "end_time": "2020-06-09T21:25:54.463427Z",
     "start_time": "2020-06-09T21:25:54.442672Z"
    }
   },
   "outputs": [
    {
     "data": {
      "text/plain": [
       "['lastsave',\n",
       " 'lindex',\n",
       " 'linsert',\n",
       " 'llen',\n",
       " 'lock',\n",
       " 'lpop',\n",
       " 'lpush',\n",
       " 'lpushx',\n",
       " 'lrange',\n",
       " 'lrem',\n",
       " 'lset',\n",
       " 'ltrim']"
      ]
     },
     "execution_count": 185,
     "metadata": {},
     "output_type": "execute_result"
    }
   ],
   "source": [
    "[x for x in dir(s._source) if x.startswith('l')]"
   ]
  },
  {
   "cell_type": "code",
   "execution_count": 187,
   "metadata": {
    "ExecuteTime": {
     "end_time": "2020-06-09T21:26:09.180832Z",
     "start_time": "2020-06-09T21:26:09.158188Z"
    }
   },
   "outputs": [
    {
     "data": {
      "text/plain": [
       "['sadd',\n",
       " 'save',\n",
       " 'scan',\n",
       " 'scan_iter',\n",
       " 'scard',\n",
       " 'script_exists',\n",
       " 'script_flush',\n",
       " 'script_kill',\n",
       " 'script_load',\n",
       " 'sdiff',\n",
       " 'sdiffstore',\n",
       " 'sentinel',\n",
       " 'sentinel_get_master_addr_by_name',\n",
       " 'sentinel_master',\n",
       " 'sentinel_masters',\n",
       " 'sentinel_monitor',\n",
       " 'sentinel_remove',\n",
       " 'sentinel_sentinels',\n",
       " 'sentinel_set',\n",
       " 'sentinel_slaves',\n",
       " 'set',\n",
       " 'set_response_callback',\n",
       " 'setbit',\n",
       " 'setex',\n",
       " 'setnx',\n",
       " 'setrange',\n",
       " 'shutdown',\n",
       " 'sinter',\n",
       " 'sinterstore',\n",
       " 'sismember',\n",
       " 'slaveof',\n",
       " 'slowlog_get',\n",
       " 'slowlog_len',\n",
       " 'slowlog_reset',\n",
       " 'smembers',\n",
       " 'smove',\n",
       " 'sort',\n",
       " 'spop',\n",
       " 'srandmember',\n",
       " 'srem',\n",
       " 'sscan',\n",
       " 'sscan_iter',\n",
       " 'strlen',\n",
       " 'substr',\n",
       " 'sunion',\n",
       " 'sunionstore',\n",
       " 'swapdb']"
      ]
     },
     "execution_count": 187,
     "metadata": {},
     "output_type": "execute_result"
    }
   ],
   "source": [
    "[x for x in dir(s._source) if x.startswith('s')]"
   ]
  },
  {
   "cell_type": "code",
   "execution_count": 188,
   "metadata": {
    "ExecuteTime": {
     "end_time": "2020-06-09T21:26:33.909189Z",
     "start_time": "2020-06-09T21:26:33.888811Z"
    }
   },
   "outputs": [
    {
     "data": {
      "text/plain": [
       "['scard', 'zcard']"
      ]
     },
     "execution_count": 188,
     "metadata": {},
     "output_type": "execute_result"
    }
   ],
   "source": [
    "[x for x in dir(s._source) if 'card' in x]"
   ]
  },
  {
   "cell_type": "code",
   "execution_count": null,
   "metadata": {},
   "outputs": [],
   "source": [
    "s._source.zcard()"
   ]
  },
  {
   "cell_type": "code",
   "execution_count": 190,
   "metadata": {
    "ExecuteTime": {
     "end_time": "2020-06-09T21:29:46.434400Z",
     "start_time": "2020-06-09T21:29:46.404012Z"
    }
   },
   "outputs": [
    {
     "ename": "DataError",
     "evalue": "Invalid input of type: 'list'. Convert to a bytes, string, int or float first.",
     "output_type": "error",
     "traceback": [
      "\u001b[0;31m---------------------------------------------------------------------------\u001b[0m",
      "\u001b[0;31mDataError\u001b[0m                                 Traceback (most recent call last)",
      "\u001b[0;32m<ipython-input-190-849dcf7db187>\u001b[0m in \u001b[0;36m<module>\u001b[0;34m\u001b[0m\n\u001b[0;32m----> 1\u001b[0;31m \u001b[0ms\u001b[0m\u001b[0;34m.\u001b[0m\u001b[0m_source\u001b[0m\u001b[0;34m.\u001b[0m\u001b[0mset\u001b[0m\u001b[0;34m(\u001b[0m\u001b[0;34m'boo'\u001b[0m\u001b[0;34m,\u001b[0m \u001b[0;34m[\u001b[0m\u001b[0;36m1\u001b[0m\u001b[0;34m,\u001b[0m\u001b[0;36m2\u001b[0m\u001b[0;34m,\u001b[0m\u001b[0;36m3\u001b[0m\u001b[0;34m]\u001b[0m\u001b[0;34m)\u001b[0m\u001b[0;34m\u001b[0m\u001b[0;34m\u001b[0m\u001b[0m\n\u001b[0m",
      "\u001b[0;32m~/.virtualenvs/382/lib/python3.8/site-packages/redis/client.py\u001b[0m in \u001b[0;36mset\u001b[0;34m(self, name, value, ex, px, nx, xx, keepttl)\u001b[0m\n\u001b[1;32m   1799\u001b[0m             \u001b[0mpieces\u001b[0m\u001b[0;34m.\u001b[0m\u001b[0mappend\u001b[0m\u001b[0;34m(\u001b[0m\u001b[0;34m'KEEPTTL'\u001b[0m\u001b[0;34m)\u001b[0m\u001b[0;34m\u001b[0m\u001b[0;34m\u001b[0m\u001b[0m\n\u001b[1;32m   1800\u001b[0m \u001b[0;34m\u001b[0m\u001b[0m\n\u001b[0;32m-> 1801\u001b[0;31m         \u001b[0;32mreturn\u001b[0m \u001b[0mself\u001b[0m\u001b[0;34m.\u001b[0m\u001b[0mexecute_command\u001b[0m\u001b[0;34m(\u001b[0m\u001b[0;34m'SET'\u001b[0m\u001b[0;34m,\u001b[0m \u001b[0;34m*\u001b[0m\u001b[0mpieces\u001b[0m\u001b[0;34m)\u001b[0m\u001b[0;34m\u001b[0m\u001b[0;34m\u001b[0m\u001b[0m\n\u001b[0m\u001b[1;32m   1802\u001b[0m \u001b[0;34m\u001b[0m\u001b[0m\n\u001b[1;32m   1803\u001b[0m     \u001b[0;32mdef\u001b[0m \u001b[0m__setitem__\u001b[0m\u001b[0;34m(\u001b[0m\u001b[0mself\u001b[0m\u001b[0;34m,\u001b[0m \u001b[0mname\u001b[0m\u001b[0;34m,\u001b[0m \u001b[0mvalue\u001b[0m\u001b[0;34m)\u001b[0m\u001b[0;34m:\u001b[0m\u001b[0;34m\u001b[0m\u001b[0;34m\u001b[0m\u001b[0m\n",
      "\u001b[0;32m~/.virtualenvs/382/lib/python3.8/site-packages/redis/client.py\u001b[0m in \u001b[0;36mexecute_command\u001b[0;34m(self, *args, **options)\u001b[0m\n\u001b[1;32m    898\u001b[0m         \u001b[0mconn\u001b[0m \u001b[0;34m=\u001b[0m \u001b[0mself\u001b[0m\u001b[0;34m.\u001b[0m\u001b[0mconnection\u001b[0m \u001b[0;32mor\u001b[0m \u001b[0mpool\u001b[0m\u001b[0;34m.\u001b[0m\u001b[0mget_connection\u001b[0m\u001b[0;34m(\u001b[0m\u001b[0mcommand_name\u001b[0m\u001b[0;34m,\u001b[0m \u001b[0;34m**\u001b[0m\u001b[0moptions\u001b[0m\u001b[0;34m)\u001b[0m\u001b[0;34m\u001b[0m\u001b[0;34m\u001b[0m\u001b[0m\n\u001b[1;32m    899\u001b[0m         \u001b[0;32mtry\u001b[0m\u001b[0;34m:\u001b[0m\u001b[0;34m\u001b[0m\u001b[0;34m\u001b[0m\u001b[0m\n\u001b[0;32m--> 900\u001b[0;31m             \u001b[0mconn\u001b[0m\u001b[0;34m.\u001b[0m\u001b[0msend_command\u001b[0m\u001b[0;34m(\u001b[0m\u001b[0;34m*\u001b[0m\u001b[0margs\u001b[0m\u001b[0;34m)\u001b[0m\u001b[0;34m\u001b[0m\u001b[0;34m\u001b[0m\u001b[0m\n\u001b[0m\u001b[1;32m    901\u001b[0m             \u001b[0;32mreturn\u001b[0m \u001b[0mself\u001b[0m\u001b[0;34m.\u001b[0m\u001b[0mparse_response\u001b[0m\u001b[0;34m(\u001b[0m\u001b[0mconn\u001b[0m\u001b[0;34m,\u001b[0m \u001b[0mcommand_name\u001b[0m\u001b[0;34m,\u001b[0m \u001b[0;34m**\u001b[0m\u001b[0moptions\u001b[0m\u001b[0;34m)\u001b[0m\u001b[0;34m\u001b[0m\u001b[0;34m\u001b[0m\u001b[0m\n\u001b[1;32m    902\u001b[0m         \u001b[0;32mexcept\u001b[0m \u001b[0;34m(\u001b[0m\u001b[0mConnectionError\u001b[0m\u001b[0;34m,\u001b[0m \u001b[0mTimeoutError\u001b[0m\u001b[0;34m)\u001b[0m \u001b[0;32mas\u001b[0m \u001b[0me\u001b[0m\u001b[0;34m:\u001b[0m\u001b[0;34m\u001b[0m\u001b[0;34m\u001b[0m\u001b[0m\n",
      "\u001b[0;32m~/.virtualenvs/382/lib/python3.8/site-packages/redis/connection.py\u001b[0m in \u001b[0;36msend_command\u001b[0;34m(self, *args, **kwargs)\u001b[0m\n\u001b[1;32m    723\u001b[0m     \u001b[0;32mdef\u001b[0m \u001b[0msend_command\u001b[0m\u001b[0;34m(\u001b[0m\u001b[0mself\u001b[0m\u001b[0;34m,\u001b[0m \u001b[0;34m*\u001b[0m\u001b[0margs\u001b[0m\u001b[0;34m,\u001b[0m \u001b[0;34m**\u001b[0m\u001b[0mkwargs\u001b[0m\u001b[0;34m)\u001b[0m\u001b[0;34m:\u001b[0m\u001b[0;34m\u001b[0m\u001b[0;34m\u001b[0m\u001b[0m\n\u001b[1;32m    724\u001b[0m         \u001b[0;34m\"Pack and send a command to the Redis server\"\u001b[0m\u001b[0;34m\u001b[0m\u001b[0;34m\u001b[0m\u001b[0m\n\u001b[0;32m--> 725\u001b[0;31m         self.send_packed_command(self.pack_command(*args),\n\u001b[0m\u001b[1;32m    726\u001b[0m                                  check_health=kwargs.get('check_health', True))\n\u001b[1;32m    727\u001b[0m \u001b[0;34m\u001b[0m\u001b[0m\n",
      "\u001b[0;32m~/.virtualenvs/382/lib/python3.8/site-packages/redis/connection.py\u001b[0m in \u001b[0;36mpack_command\u001b[0;34m(self, *args)\u001b[0m\n\u001b[1;32m    773\u001b[0m \u001b[0;34m\u001b[0m\u001b[0m\n\u001b[1;32m    774\u001b[0m         \u001b[0mbuffer_cutoff\u001b[0m \u001b[0;34m=\u001b[0m \u001b[0mself\u001b[0m\u001b[0;34m.\u001b[0m\u001b[0m_buffer_cutoff\u001b[0m\u001b[0;34m\u001b[0m\u001b[0;34m\u001b[0m\u001b[0m\n\u001b[0;32m--> 775\u001b[0;31m         \u001b[0;32mfor\u001b[0m \u001b[0marg\u001b[0m \u001b[0;32min\u001b[0m \u001b[0mimap\u001b[0m\u001b[0;34m(\u001b[0m\u001b[0mself\u001b[0m\u001b[0;34m.\u001b[0m\u001b[0mencoder\u001b[0m\u001b[0;34m.\u001b[0m\u001b[0mencode\u001b[0m\u001b[0;34m,\u001b[0m \u001b[0margs\u001b[0m\u001b[0;34m)\u001b[0m\u001b[0;34m:\u001b[0m\u001b[0;34m\u001b[0m\u001b[0;34m\u001b[0m\u001b[0m\n\u001b[0m\u001b[1;32m    776\u001b[0m             \u001b[0;31m# to avoid large string mallocs, chunk the command into the\u001b[0m\u001b[0;34m\u001b[0m\u001b[0;34m\u001b[0m\u001b[0;34m\u001b[0m\u001b[0m\n\u001b[1;32m    777\u001b[0m             \u001b[0;31m# output list if we're sending large values or memoryviews\u001b[0m\u001b[0;34m\u001b[0m\u001b[0;34m\u001b[0m\u001b[0;34m\u001b[0m\u001b[0m\n",
      "\u001b[0;32m~/.virtualenvs/382/lib/python3.8/site-packages/redis/connection.py\u001b[0m in \u001b[0;36mencode\u001b[0;34m(self, value)\u001b[0m\n\u001b[1;32m    117\u001b[0m             \u001b[0;31m# a value we don't know how to deal with. throw an error\u001b[0m\u001b[0;34m\u001b[0m\u001b[0;34m\u001b[0m\u001b[0;34m\u001b[0m\u001b[0m\n\u001b[1;32m    118\u001b[0m             \u001b[0mtypename\u001b[0m \u001b[0;34m=\u001b[0m \u001b[0mtype\u001b[0m\u001b[0;34m(\u001b[0m\u001b[0mvalue\u001b[0m\u001b[0;34m)\u001b[0m\u001b[0;34m.\u001b[0m\u001b[0m__name__\u001b[0m\u001b[0;34m\u001b[0m\u001b[0;34m\u001b[0m\u001b[0m\n\u001b[0;32m--> 119\u001b[0;31m             raise DataError(\"Invalid input of type: '%s'. Convert to a \"\n\u001b[0m\u001b[1;32m    120\u001b[0m                             \"bytes, string, int or float first.\" % typename)\n\u001b[1;32m    121\u001b[0m         \u001b[0;32mif\u001b[0m \u001b[0misinstance\u001b[0m\u001b[0;34m(\u001b[0m\u001b[0mvalue\u001b[0m\u001b[0;34m,\u001b[0m \u001b[0municode\u001b[0m\u001b[0;34m)\u001b[0m\u001b[0;34m:\u001b[0m\u001b[0;34m\u001b[0m\u001b[0;34m\u001b[0m\u001b[0m\n",
      "\u001b[0;31mDataError\u001b[0m: Invalid input of type: 'list'. Convert to a bytes, string, int or float first."
     ]
    }
   ],
   "source": [
    "s._source.set('boo', [1,2,3])"
   ]
  },
  {
   "cell_type": "code",
   "execution_count": 191,
   "metadata": {
    "ExecuteTime": {
     "end_time": "2020-06-09T21:30:43.403572Z",
     "start_time": "2020-06-09T21:30:43.383182Z"
    }
   },
   "outputs": [
    {
     "data": {
      "text/plain": [
       "[b'one', b'another_list', b'bytes', b'int', b'float', b'foo']"
      ]
     },
     "execution_count": 191,
     "metadata": {},
     "output_type": "execute_result"
    }
   ],
   "source": [
    "list(s)"
   ]
  },
  {
   "cell_type": "code",
   "execution_count": 193,
   "metadata": {
    "ExecuteTime": {
     "end_time": "2020-06-09T21:31:59.039156Z",
     "start_time": "2020-06-09T21:31:59.002036Z"
    }
   },
   "outputs": [
    {
     "data": {
      "text/plain": [
       "[b'3', b'10', b'3', b'10']"
      ]
     },
     "execution_count": 193,
     "metadata": {},
     "output_type": "execute_result"
    }
   ],
   "source": [
    "s._source.lrange('another_list', 0, 3)"
   ]
  },
  {
   "cell_type": "code",
   "execution_count": 201,
   "metadata": {
    "ExecuteTime": {
     "end_time": "2020-06-09T21:38:45.210629Z",
     "start_time": "2020-06-09T21:38:45.190744Z"
    }
   },
   "outputs": [
    {
     "data": {
      "text/plain": [
       "5"
      ]
     },
     "execution_count": 201,
     "metadata": {},
     "output_type": "execute_result"
    }
   ],
   "source": [
    "s._source.llen('another_list')"
   ]
  },
  {
   "cell_type": "code",
   "execution_count": 199,
   "metadata": {
    "ExecuteTime": {
     "end_time": "2020-06-09T21:38:32.124638Z",
     "start_time": "2020-06-09T21:38:32.105392Z"
    }
   },
   "outputs": [
    {
     "data": {
      "text/plain": [
       "<Signature (name)>"
      ]
     },
     "execution_count": 199,
     "metadata": {},
     "output_type": "execute_result"
    }
   ],
   "source": [
    "signature(s._source.llen)"
   ]
  },
  {
   "cell_type": "code",
   "execution_count": 203,
   "metadata": {
    "ExecuteTime": {
     "end_time": "2020-06-09T21:40:39.309264Z",
     "start_time": "2020-06-09T21:40:39.289333Z"
    }
   },
   "outputs": [
    {
     "data": {
      "text/plain": [
       "{'__abstractmethods__', '__module__', '__slots__', '_abc_impl'}"
      ]
     },
     "execution_count": 203,
     "metadata": {},
     "output_type": "execute_result"
    }
   ],
   "source": [
    "from collections.abc import Sequence\n",
    "set(dir(Sequence)) - set(dir(list))"
   ]
  },
  {
   "cell_type": "code",
   "execution_count": 204,
   "metadata": {
    "ExecuteTime": {
     "end_time": "2020-06-09T21:40:48.839696Z",
     "start_time": "2020-06-09T21:40:48.819810Z"
    }
   },
   "outputs": [
    {
     "data": {
      "text/plain": [
       "{'__add__',\n",
       " '__delitem__',\n",
       " '__iadd__',\n",
       " '__imul__',\n",
       " '__mul__',\n",
       " '__rmul__',\n",
       " '__setitem__',\n",
       " 'append',\n",
       " 'clear',\n",
       " 'copy',\n",
       " 'extend',\n",
       " 'insert',\n",
       " 'pop',\n",
       " 'remove',\n",
       " 'reverse',\n",
       " 'sort'}"
      ]
     },
     "execution_count": 204,
     "metadata": {},
     "output_type": "execute_result"
    }
   ],
   "source": [
    "set(dir(list)) - set(dir(Sequence))"
   ]
  },
  {
   "cell_type": "code",
   "execution_count": 66,
   "metadata": {
    "ExecuteTime": {
     "end_time": "2020-06-09T22:43:32.274754Z",
     "start_time": "2020-06-09T22:43:32.169614Z"
    }
   },
   "outputs": [
    {
     "data": {
      "text/plain": [
       "slice(None, 10, None)"
      ]
     },
     "execution_count": 66,
     "metadata": {},
     "output_type": "execute_result"
    }
   ],
   "source": [
    "t.stop = "
   ]
  },
  {
   "cell_type": "code",
   "execution_count": null,
   "metadata": {},
   "outputs": [],
   "source": []
  },
  {
   "cell_type": "code",
   "execution_count": null,
   "metadata": {},
   "outputs": [],
   "source": [
    "class RedisListReader(Sequence):\n",
    "    def __init__(self, source, name):\n",
    "        self._source = source\n",
    "        self._name = name\n",
    "\n",
    "    def __len__(self):\n",
    "        return self._source.llen()\n",
    "\n",
    "    def __getitem__(self, k):\n",
    "        return self._source.lindex(self._name, k)\n",
    "\n",
    "    def __iter__(self):\n",
    "        # TODO: Find a more efficient way to do this.\n",
    "        #   In batches perhaps? But what's the optimal batch size?\n",
    "        #   async fetching of the next value/batch while yielding the one that's already fetched?\n",
    "        for i in range(len(self)):\n",
    "            yield self[i]\n"
   ]
  },
  {
   "cell_type": "code",
   "execution_count": null,
   "metadata": {},
   "outputs": [],
   "source": []
  },
  {
   "cell_type": "code",
   "execution_count": null,
   "metadata": {},
   "outputs": [],
   "source": []
  }
 ],
 "metadata": {
  "kernelspec": {
   "display_name": "Python 3 (ipykernel)",
   "language": "python",
   "name": "python3"
  },
  "language_info": {
   "codemirror_mode": {
    "name": "ipython",
    "version": 3
   },
   "file_extension": ".py",
   "mimetype": "text/x-python",
   "name": "python",
   "nbconvert_exporter": "python",
   "pygments_lexer": "ipython3",
   "version": "3.10.8"
  },
  "latex_envs": {
   "LaTeX_envs_menu_present": true,
   "autoclose": false,
   "autocomplete": true,
   "bibliofile": "biblio.bib",
   "cite_by": "apalike",
   "current_citInitial": 1,
   "eqLabelWithNumbers": true,
   "eqNumInitial": 1,
   "hotkeys": {
    "equation": "Ctrl-E",
    "itemize": "Ctrl-I"
   },
   "labels_anchors": false,
   "latex_user_defs": false,
   "report_style_numbering": false,
   "user_envs_cfg": false
  },
  "toc": {
   "base_numbering": 1,
   "nav_menu": {},
   "number_sections": true,
   "sideBar": false,
   "skip_h1_title": false,
   "title_cell": "Table of Contents",
   "title_sidebar": "Contents",
   "toc_cell": true,
   "toc_position": {
    "height": "150px",
    "left": "1072px",
    "top": "111.141px",
    "width": "534px"
   },
   "toc_section_display": true,
   "toc_window_display": true
  }
 },
 "nbformat": 4,
 "nbformat_minor": 4
}
